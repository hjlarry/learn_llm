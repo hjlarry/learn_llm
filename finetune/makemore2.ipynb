{
 "cells": [
  {
   "cell_type": "code",
   "execution_count": 3,
   "id": "initial_id",
   "metadata": {
    "collapsed": true,
    "ExecuteTime": {
     "end_time": "2024-03-19T08:34:44.396353300Z",
     "start_time": "2024-03-19T08:34:44.373837100Z"
    }
   },
   "outputs": [],
   "source": [
    "words = open('names.txt', 'r').read().splitlines()\n",
    "chars = sorted(list(set(''.join(words))))\n",
    "s_to_i = {s: i + 1 for i, s in enumerate(chars)}\n",
    "i_to_s = {i + 1: s for i, s in enumerate(chars)}\n",
    "s_to_i['.'] = 0\n",
    "i_to_s[0] = '.'"
   ]
  },
  {
   "cell_type": "code",
   "execution_count": 29,
   "outputs": [],
   "source": [
    "block_size = 3  # 决定根据多少个字母去预测下一个字母\n",
    "X, Y = [], []\n",
    "for w in words:\n",
    "    # print(w)\n",
    "    context = [0] * block_size\n",
    "    for ch in w + '.':\n",
    "        ix = s_to_i[ch]\n",
    "        X.append(context)\n",
    "        Y.append(ix)\n",
    "        # print(''.join(i_to_s[i] for i in context), '--->', i_to_s[ix])\n",
    "        context = context[1:] + [ix]"
   ],
   "metadata": {
    "collapsed": false,
    "ExecuteTime": {
     "end_time": "2024-03-19T09:04:51.180040600Z",
     "start_time": "2024-03-19T09:04:50.885939900Z"
    }
   },
   "id": "dd84dbc600875bd3"
  },
  {
   "cell_type": "code",
   "execution_count": 30,
   "outputs": [
    {
     "data": {
      "text/plain": "(torch.Size([228146, 3]), torch.Size([228146]), torch.int32, torch.int64)"
     },
     "execution_count": 30,
     "metadata": {},
     "output_type": "execute_result"
    }
   ],
   "source": [
    "import torch\n",
    "\n",
    "X = torch.Tensor(X).int()\n",
    "Y = torch.Tensor(Y).long()\n",
    "X.shape, Y.shape, X.dtype, Y.dtype"
   ],
   "metadata": {
    "collapsed": false,
    "ExecuteTime": {
     "end_time": "2024-03-19T09:04:54.726218600Z",
     "start_time": "2024-03-19T09:04:54.631707200Z"
    }
   },
   "id": "be77760e37e5205b"
  },
  {
   "cell_type": "code",
   "execution_count": 6,
   "outputs": [
    {
     "data": {
      "text/plain": "(tensor([-1.0803, -0.9354]),\n tensor([-0.9392,  0.7454]),\n tensor([[-1.0803, -0.9354],\n         [-0.4227, -0.1807],\n         [-0.9392,  0.7454]]),\n tensor([[-1.0803, -0.9354],\n         [-0.4227, -0.1807],\n         [-0.9392,  0.7454]]))"
     },
     "execution_count": 6,
     "metadata": {},
     "output_type": "execute_result"
    }
   ],
   "source": [
    "C = torch.randn((27, 2))\n",
    "C[5], C[8], C[[5, 6, 8]], C[torch.tensor([5, 6, 8])]"
   ],
   "metadata": {
    "collapsed": false,
    "ExecuteTime": {
     "end_time": "2024-03-19T08:35:02.113112100Z",
     "start_time": "2024-03-19T08:35:02.095117300Z"
    }
   },
   "id": "f0f9323c6b96af4"
  },
  {
   "cell_type": "code",
   "execution_count": 16,
   "outputs": [
    {
     "data": {
      "text/plain": "tensor([[[-0.0886,  1.6839],\n         [-0.0886,  1.6839],\n         [-0.0886,  1.6839]],\n\n        [[-0.0886,  1.6839],\n         [-0.0886,  1.6839],\n         [-0.1886, -1.2475]],\n\n        [[-0.0886,  1.6839],\n         [-0.1886, -1.2475],\n         [ 2.5982,  0.9435]],\n\n        [[-0.1886, -1.2475],\n         [ 2.5982,  0.9435],\n         [ 2.5982,  0.9435]],\n\n        [[ 2.5982,  0.9435],\n         [ 2.5982,  0.9435],\n         [-0.3883, -1.7584]],\n\n        [[-0.0886,  1.6839],\n         [-0.0886,  1.6839],\n         [-0.0886,  1.6839]],\n\n        [[-0.0886,  1.6839],\n         [-0.0886,  1.6839],\n         [-0.2570, -1.5688]],\n\n        [[-0.0886,  1.6839],\n         [-0.2570, -1.5688],\n         [ 2.8748, -0.3933]],\n\n        [[-0.2570, -1.5688],\n         [ 2.8748, -0.3933],\n         [ 0.1534,  0.0773]],\n\n        [[ 2.8748, -0.3933],\n         [ 0.1534,  0.0773],\n         [-1.4276, -2.2366]],\n\n        [[ 0.1534,  0.0773],\n         [-1.4276, -2.2366],\n         [ 0.1534,  0.0773]],\n\n        [[-1.4276, -2.2366],\n         [ 0.1534,  0.0773],\n         [-0.3883, -1.7584]],\n\n        [[-0.0886,  1.6839],\n         [-0.0886,  1.6839],\n         [-0.0886,  1.6839]],\n\n        [[-0.0886,  1.6839],\n         [-0.0886,  1.6839],\n         [-0.3883, -1.7584]],\n\n        [[-0.0886,  1.6839],\n         [-0.3883, -1.7584],\n         [-1.4276, -2.2366]],\n\n        [[-0.3883, -1.7584],\n         [-1.4276, -2.2366],\n         [-0.3883, -1.7584]],\n\n        [[-0.0886,  1.6839],\n         [-0.0886,  1.6839],\n         [-0.0886,  1.6839]],\n\n        [[-0.0886,  1.6839],\n         [-0.0886,  1.6839],\n         [ 0.1534,  0.0773]],\n\n        [[-0.0886,  1.6839],\n         [ 0.1534,  0.0773],\n         [-0.1049, -1.2570]],\n\n        [[ 0.1534,  0.0773],\n         [-0.1049, -1.2570],\n         [-0.3883, -1.7584]],\n\n        [[-0.1049, -1.2570],\n         [-0.3883, -1.7584],\n         [ 0.9701,  0.4624]],\n\n        [[-0.3883, -1.7584],\n         [ 0.9701,  0.4624],\n         [-0.1886, -1.2475]],\n\n        [[ 0.9701,  0.4624],\n         [-0.1886, -1.2475],\n         [ 2.8748, -0.3933]],\n\n        [[-0.1886, -1.2475],\n         [ 2.8748, -0.3933],\n         [ 2.8748, -0.3933]],\n\n        [[ 2.8748, -0.3933],\n         [ 2.8748, -0.3933],\n         [-0.3883, -1.7584]],\n\n        [[-0.0886,  1.6839],\n         [-0.0886,  1.6839],\n         [-0.0886,  1.6839]],\n\n        [[-0.0886,  1.6839],\n         [-0.0886,  1.6839],\n         [-0.1049, -1.2570]],\n\n        [[-0.0886,  1.6839],\n         [-0.1049, -1.2570],\n         [-0.2570, -1.5688]],\n\n        [[-0.1049, -1.2570],\n         [-0.2570, -1.5688],\n         [ 0.9212, -1.6687]],\n\n        [[-0.2570, -1.5688],\n         [ 0.9212, -1.6687],\n         [-0.4813, -1.1514]],\n\n        [[ 0.9212, -1.6687],\n         [-0.4813, -1.1514],\n         [ 0.1534,  0.0773]],\n\n        [[-0.4813, -1.1514],\n         [ 0.1534,  0.0773],\n         [-0.3883, -1.7584]]])"
     },
     "execution_count": 16,
     "metadata": {},
     "output_type": "execute_result"
    }
   ],
   "source": [
    "C[X]"
   ],
   "metadata": {
    "collapsed": false,
    "ExecuteTime": {
     "end_time": "2024-03-19T07:18:09.741983100Z",
     "start_time": "2024-03-19T07:18:09.715986800Z"
    }
   },
   "id": "d63aa234ed8ba497"
  },
  {
   "cell_type": "code",
   "execution_count": 17,
   "outputs": [
    {
     "data": {
      "text/plain": "torch.Size([32, 3, 2])"
     },
     "execution_count": 17,
     "metadata": {},
     "output_type": "execute_result"
    }
   ],
   "source": [
    "C[X].shape"
   ],
   "metadata": {
    "collapsed": false,
    "ExecuteTime": {
     "end_time": "2024-03-19T07:18:26.037254Z",
     "start_time": "2024-03-19T07:18:26.026258800Z"
    }
   },
   "id": "acf1741f84f5e4b"
  },
  {
   "cell_type": "code",
   "execution_count": 26,
   "outputs": [
    {
     "data": {
      "text/plain": "(tensor(22, dtype=torch.int32),\n tensor([-1.4276, -2.2366]),\n tensor([-1.4276, -2.2366]))"
     },
     "execution_count": 26,
     "metadata": {},
     "output_type": "execute_result"
    }
   ],
   "source": [
    "# X[14,2]的值是22， C[X][14,2]其实就是在求C[22]\n",
    "# 也就是说形成了一个新的矩阵，这个矩阵[14,2]的位置就放的之前C[22]的值，所以原来X(32,3)的矩阵变成了(32,3,2)的矩阵\n",
    "X[14, 2], C[X][14, 2], C[22]"
   ],
   "metadata": {
    "collapsed": false,
    "ExecuteTime": {
     "end_time": "2024-03-19T07:29:49.676016500Z",
     "start_time": "2024-03-19T07:29:49.662016800Z"
    }
   },
   "id": "c7611fb2210fa993"
  },
  {
   "cell_type": "markdown",
   "source": [],
   "metadata": {
    "collapsed": false
   },
   "id": "8e82109dbc56280f"
  },
  {
   "cell_type": "code",
   "execution_count": 7,
   "outputs": [
    {
     "data": {
      "text/plain": "tensor([[True, True, True, True, True, True],\n        [True, True, True, True, True, True],\n        [True, True, True, True, True, True],\n        [True, True, True, True, True, True],\n        [True, True, True, True, True, True],\n        [True, True, True, True, True, True],\n        [True, True, True, True, True, True],\n        [True, True, True, True, True, True],\n        [True, True, True, True, True, True],\n        [True, True, True, True, True, True],\n        [True, True, True, True, True, True],\n        [True, True, True, True, True, True],\n        [True, True, True, True, True, True],\n        [True, True, True, True, True, True],\n        [True, True, True, True, True, True],\n        [True, True, True, True, True, True],\n        [True, True, True, True, True, True],\n        [True, True, True, True, True, True],\n        [True, True, True, True, True, True],\n        [True, True, True, True, True, True],\n        [True, True, True, True, True, True],\n        [True, True, True, True, True, True],\n        [True, True, True, True, True, True],\n        [True, True, True, True, True, True],\n        [True, True, True, True, True, True],\n        [True, True, True, True, True, True],\n        [True, True, True, True, True, True],\n        [True, True, True, True, True, True],\n        [True, True, True, True, True, True],\n        [True, True, True, True, True, True],\n        [True, True, True, True, True, True],\n        [True, True, True, True, True, True]])"
     },
     "execution_count": 7,
     "metadata": {},
     "output_type": "execute_result"
    }
   ],
   "source": [
    "# 把很大的一个X放在一个小的(27,2)的矩阵中\n",
    "emb = C[X]\n",
    "# 需要concat其中的每一列，把emb从一个[32,3,2]的矩阵变为一个[32,6]的矩阵\n",
    "# torch.cat((emb[:,0,:], emb[:,1,:],emb[:,2,:]), 1).shape\n",
    "# 但如果blocksize发生了变化，就需要手动改这个torch.cat的index，所以我们用unbind方法\n",
    "# torch.cat(torch.unbind(emb, 1), 1).shape\n",
    "# 但是这些都不如view高效，view要求内存连续\n",
    "emb.view(32, 6) == torch.cat((emb[:, 0, :], emb[:, 1, :], emb[:, 2, :]), 1)"
   ],
   "metadata": {
    "collapsed": false,
    "ExecuteTime": {
     "end_time": "2024-03-19T08:35:09.009968500Z",
     "start_time": "2024-03-19T08:35:08.984454700Z"
    }
   },
   "id": "421cdb7c0cc0338d"
  },
  {
   "cell_type": "code",
   "execution_count": 8,
   "outputs": [
    {
     "data": {
      "text/plain": "tensor([[ 0.5953,  0.9568, -0.3601,  ...,  0.9490,  0.0939,  0.9865],\n        [-0.3757, -0.7598,  0.8586,  ...,  0.8582,  0.9562, -0.3765],\n        [-0.9970, -0.9996,  0.9999,  ...,  0.2961,  0.9998, -0.9939],\n        ...,\n        [-0.6123, -0.7258,  0.9984,  ...,  0.8007,  0.8594, -0.9459],\n        [-0.6416, -0.9924,  0.9999,  ..., -0.8889,  0.9783, -0.9664],\n        [-0.3588, -0.8164,  0.9994,  ..., -0.7141,  0.9822, -0.8960]])"
     },
     "execution_count": 8,
     "metadata": {},
     "output_type": "execute_result"
    }
   ],
   "source": [
    "W1 = torch.randn((6, 100))\n",
    "b1 = torch.randn(100)\n",
    "\n",
    "# h = emb.view(32,6) @ W1 + b1\n",
    "h = emb.view(-1, 6) @ W1 + b1\n",
    "h = torch.tanh(h)\n",
    "h\n"
   ],
   "metadata": {
    "collapsed": false,
    "ExecuteTime": {
     "end_time": "2024-03-19T08:35:13.076116300Z",
     "start_time": "2024-03-19T08:35:13.052118900Z"
    }
   },
   "id": "58662e1deb8e0c62"
  },
  {
   "cell_type": "code",
   "execution_count": 12,
   "outputs": [
    {
     "data": {
      "text/plain": "tensor(1.)"
     },
     "execution_count": 12,
     "metadata": {},
     "output_type": "execute_result"
    }
   ],
   "source": [
    "# 第二层\n",
    "W2 = torch.randn((100, 27))\n",
    "b2 = torch.randn(27)\n",
    "\n",
    "logits = h @ W2 + b2\n",
    "counts = logits.exp()\n",
    "probs = counts / counts.sum(1, keepdim=True)\n",
    "# loss = -probs[torch.arange(32), Y].log().mean()\n",
    "probs[0].sum()\n",
    "\n",
    "\"\"\"\n",
    "当用前5个words时，各个变量的shape：\n",
    "X = (32,3)  Y=(32,)\n",
    "C = (27,2)  emb = (32, 3, 2)\n",
    "W1 = (6, 100) b1 = (100,)\n",
    "h = (32, 100)\n",
    "W2 = (100, 27)  b2=(27,)\n",
    "logits = (32, 27)\n",
    "probs = (32, 27) 且每行的和是1\n",
    "probs[torch.arange(32), Y]表示了Y中每一行在probs中的概率，其shape是(32,)\n",
    "为什么对它调用log函数？\n",
    "1. 因为对数函数是单调递增的，对接近0的概率值增长非常快，也就意为着对预测错误的样本，对数损失会给更大的惩罚。\n",
    "2. 当概率是接近0或1的时候，直接用它计算损失，可能会导致数值下溢或上溢\n",
    "之后就是加起来取平均值，为了去计算最小损失值，给它一个负数\n",
    "\"\"\""
   ],
   "metadata": {
    "collapsed": false,
    "ExecuteTime": {
     "end_time": "2024-03-19T08:39:18.296672300Z",
     "start_time": "2024-03-19T08:39:18.288669300Z"
    }
   },
   "id": "92d04d997805f17a"
  },
  {
   "cell_type": "code",
   "execution_count": 13,
   "outputs": [
    {
     "data": {
      "text/plain": "tensor([ 5., 13., 13.,  1.,  0., 15., 12.,  9., 22.,  9.,  1.,  0.,  1., 22.,\n         1.,  0.,  9., 19.,  1.,  2.,  5., 12., 12.,  1.,  0., 19., 15., 16.,\n         8.,  9.,  1.,  0.])"
     },
     "execution_count": 13,
     "metadata": {},
     "output_type": "execute_result"
    }
   ],
   "source": [
    "Y"
   ],
   "metadata": {
    "collapsed": false,
    "ExecuteTime": {
     "end_time": "2024-03-19T08:40:02.550058400Z",
     "start_time": "2024-03-19T08:40:02.511507100Z"
    }
   },
   "id": "580672abc314788"
  },
  {
   "cell_type": "code",
   "execution_count": 16,
   "outputs": [
    {
     "data": {
      "text/plain": "tensor([2.4878e-09, 3.6797e-12, 2.3026e-10, 1.6010e-10, 1.6556e-08, 2.8466e-13,\n        8.9345e-19, 1.0790e-13, 4.4661e-13, 4.3844e-05, 2.1446e-06, 2.7384e-01,\n        7.8349e-07, 7.4775e-04, 8.3898e-08, 1.9778e-10, 8.5059e-09, 1.4062e-10,\n        5.8266e-03, 2.3448e-07, 4.6782e-11, 8.9680e-07, 1.2722e-16, 7.9468e-07,\n        1.1243e-07, 2.5356e-12, 1.4194e-10, 1.4363e-05, 3.2039e-13, 3.3227e-09,\n        9.7718e-01, 8.7001e-01])"
     },
     "execution_count": 16,
     "metadata": {},
     "output_type": "execute_result"
    }
   ],
   "source": [
    "probs[torch.arange(32), Y]"
   ],
   "metadata": {
    "collapsed": false,
    "ExecuteTime": {
     "end_time": "2024-03-19T08:41:55.694143Z",
     "start_time": "2024-03-19T08:41:55.682140700Z"
    }
   },
   "id": "1431bef118d555d2"
  },
  {
   "cell_type": "code",
   "execution_count": 21,
   "outputs": [],
   "source": [
    "import torch.nn.functional as F"
   ],
   "metadata": {
    "collapsed": false,
    "ExecuteTime": {
     "end_time": "2024-03-19T08:50:01.674040100Z",
     "start_time": "2024-03-19T08:50:01.662043400Z"
    }
   },
   "id": "4a48ee8d54715e50"
  },
  {
   "cell_type": "code",
   "execution_count": 67,
   "outputs": [
    {
     "name": "stdout",
     "output_type": "stream",
     "text": [
      "3481\n"
     ]
    }
   ],
   "source": [
    "g = torch.Generator().manual_seed(2147483647)\n",
    "C = torch.randn((27, 2), generator=g)\n",
    "W1 = torch.randn((6, 100), generator=g)\n",
    "b1 = torch.randn(100, generator=g)\n",
    "W2 = torch.randn((100, 27), generator=g)\n",
    "b2 = torch.randn(27, generator=g)\n",
    "\n",
    "params = [C, W1, b1, W2, b2]\n",
    "print(sum(p.nelement() for p in params))\n"
   ],
   "metadata": {
    "collapsed": false,
    "ExecuteTime": {
     "end_time": "2024-03-20T03:36:34.931076100Z",
     "start_time": "2024-03-20T03:36:34.901556Z"
    }
   },
   "id": "940a0021b9c71520"
  },
  {
   "cell_type": "code",
   "execution_count": 68,
   "outputs": [
    {
     "data": {
      "text/plain": "tensor(19.5052)"
     },
     "execution_count": 68,
     "metadata": {},
     "output_type": "execute_result"
    }
   ],
   "source": [
    "emb = C[X]\n",
    "h = torch.tanh(emb.view(-1, 6) @ W1 + b1)\n",
    "logits = h @ W2 + b2\n",
    "# 以下三行等于cross_entropy\n",
    "# counts = logits.exp()\n",
    "# probs = counts / counts.sum(1, keepdim=True)\n",
    "# loss = -probs[torch.arange(32), Y].log().mean()\n",
    "\n",
    "loss = F.cross_entropy(logits, Y)\n",
    "loss"
   ],
   "metadata": {
    "collapsed": false,
    "ExecuteTime": {
     "end_time": "2024-03-20T03:36:36.859935900Z",
     "start_time": "2024-03-20T03:36:36.766415100Z"
    }
   },
   "id": "2fdb837f536ac904"
  },
  {
   "cell_type": "code",
   "execution_count": 64,
   "outputs": [],
   "source": [
    "lre = torch.linspace(-3, 0, 1000)\n",
    "# lrs是10的-3次方至10的0次方之间的1000个数，也就是0.001至1\n",
    "lrs = 10 ** lre\n",
    "lri = []\n",
    "lossi = []"
   ],
   "metadata": {
    "collapsed": false,
    "ExecuteTime": {
     "end_time": "2024-03-20T03:29:08.201585800Z",
     "start_time": "2024-03-20T03:29:08.179580400Z"
    }
   },
   "id": "fadd1bbd1704d6c8"
  },
  {
   "cell_type": "code",
   "execution_count": 76,
   "outputs": [],
   "source": [
    "for p in params:\n",
    "    p.requires_grad = True\n",
    "\n",
    "for k in range(10000):\n",
    "    # minibatch construct 只取32行\n",
    "    ix = torch.randint(0, X.shape[0], (32,))\n",
    "\n",
    "    # forward\n",
    "    emb = C[X[ix]]\n",
    "    h = torch.tanh(emb.view(-1, 6) @ W1 + b1)\n",
    "    logits = h @ W2 + b2\n",
    "    loss = F.cross_entropy(logits, Y[ix])\n",
    "    # print(f\"{k} minibatch loss is {loss.item()}\")\n",
    "\n",
    "    # backward\n",
    "    for p in params:\n",
    "        p.grad = None\n",
    "    loss.backward()\n",
    "\n",
    "    #update\n",
    "    # lr = lrs[k]\n",
    "    # 先用较大的学习率0.1，再逐渐调小，loss更容易降低\n",
    "    lr = 0.001\n",
    "    for p in params:\n",
    "        p.data += -lr * p.grad\n",
    "\n",
    "    # lossi.append(loss.item())\n",
    "    # lri.append(lre[k])"
   ],
   "metadata": {
    "collapsed": false,
    "ExecuteTime": {
     "end_time": "2024-03-20T03:37:44.854902700Z",
     "start_time": "2024-03-20T03:37:40.689762100Z"
    }
   },
   "id": "2423dceee7dd8f86"
  },
  {
   "cell_type": "code",
   "execution_count": 77,
   "outputs": [
    {
     "name": "stdout",
     "output_type": "stream",
     "text": [
      "total loss is 2.3861241340637207\n"
     ]
    }
   ],
   "source": [
    "emb = C[X]\n",
    "h = torch.tanh(emb.view(-1, 6) @ W1 + b1)\n",
    "logits = h @ W2 + b2\n",
    "loss = F.cross_entropy(logits, Y)\n",
    "print(f\"total loss is {loss.item()}\")"
   ],
   "metadata": {
    "collapsed": false,
    "ExecuteTime": {
     "end_time": "2024-03-20T03:37:46.309022300Z",
     "start_time": "2024-03-20T03:37:46.222450Z"
    }
   },
   "id": "fa7a4b4cbbe88a73"
  },
  {
   "cell_type": "code",
   "execution_count": 66,
   "outputs": [
    {
     "data": {
      "text/plain": "[<matplotlib.lines.Line2D at 0x29e086bb1c0>]"
     },
     "execution_count": 66,
     "metadata": {},
     "output_type": "execute_result"
    },
    {
     "data": {
      "text/plain": "<Figure size 640x480 with 1 Axes>",
      "image/png": "[encoded data removed]"
     },
     "metadata": {},
     "output_type": "display_data"
    }
   ],
   "source": [
    "from matplotlib import pyplot as plt\n",
    "\n",
    "plt.plot(lri, lossi)"
   ],
   "metadata": {
    "collapsed": false,
    "ExecuteTime": {
     "end_time": "2024-03-20T03:29:14.910087900Z",
     "start_time": "2024-03-20T03:29:14.771042Z"
    }
   },
   "id": "70b1dc4a34c9c454"
  },
  {
   "cell_type": "code",
   "execution_count": 1,
   "outputs": [],
   "source": [
    "words = open('names.txt', 'r').read().splitlines()\n",
    "chars = sorted(list(set(''.join(words))))\n",
    "s_to_i = {s: i + 1 for i, s in enumerate(chars)}\n",
    "i_to_s = {i + 1: s for i, s in enumerate(chars)}\n",
    "s_to_i['.'] = 0\n",
    "i_to_s[0] = '.'"
   ],
   "metadata": {
    "collapsed": false,
    "ExecuteTime": {
     "end_time": "2024-03-20T08:31:16.841243100Z",
     "start_time": "2024-03-20T08:31:16.830245700Z"
    }
   },
   "id": "5e92d11330bf9e3d"
  },
  {
   "cell_type": "code",
   "execution_count": 2,
   "outputs": [],
   "source": [
    "# training split, 用于上面的训练\n",
    "# dev/validation split, 用于调整超参数\n",
    "# test split, 用于测试\n",
    "\n",
    "block_size = 3\n",
    "\n",
    "\n",
    "def build_dataset(words):\n",
    "    X, Y = [], []\n",
    "    for w in words:\n",
    "        context = [0] * block_size\n",
    "        for ch in w + '.':\n",
    "            ix = s_to_i[ch]\n",
    "            X.append(context)\n",
    "            Y.append(ix)\n",
    "            context = context[1:] + [ix]\n",
    "\n",
    "    X = torch.tensor(X)\n",
    "    Y = torch.tensor(Y)\n",
    "    print(f\"x.shape is {X.shape}, y.shape is {Y.shape}\")\n",
    "    return X, Y"
   ],
   "metadata": {
    "collapsed": false,
    "ExecuteTime": {
     "end_time": "2024-03-20T08:31:33.710182900Z",
     "start_time": "2024-03-20T08:31:33.699182200Z"
    }
   },
   "id": "7268b83165f37a51"
  },
  {
   "cell_type": "code",
   "execution_count": 49,
   "outputs": [
    {
     "name": "stdout",
     "output_type": "stream",
     "text": [
      "x.shape is torch.Size([182441, 3]), y.shape is torch.Size([182441])\n",
      "x.shape is torch.Size([22902, 3]), y.shape is torch.Size([22902])\n",
      "x.shape is torch.Size([22803, 3]), y.shape is torch.Size([22803])\n"
     ]
    }
   ],
   "source": [
    "import random\n",
    "import torch\n",
    "import torch.nn.functional as F\n",
    "\n",
    "random.seed(42)\n",
    "random.shuffle(words)\n",
    "n1 = int(0.8 * len(words))\n",
    "n2 = int(0.9 * len(words))\n",
    "\n",
    "Xtrain, Ytrain = build_dataset(words[:n1])\n",
    "Xdev, Ydev = build_dataset(words[n1:n2])\n",
    "Xtest, Ytest = build_dataset(words[n2:])"
   ],
   "metadata": {
    "collapsed": false,
    "ExecuteTime": {
     "end_time": "2024-03-20T09:12:21.218039300Z",
     "start_time": "2024-03-20T09:12:20.539890Z"
    }
   },
   "id": "3743b7bde35a9187"
  },
  {
   "cell_type": "code",
   "execution_count": 144,
   "outputs": [
    {
     "name": "stdout",
     "output_type": "stream",
     "text": [
      "17697\n"
     ]
    }
   ],
   "source": [
    "# 尝试用GPU训练，发现时间会更长，应该是因为主要耗时是for循环操作，而不是向量计算\n",
    "# device = torch.device(\"cuda\" if torch.cuda.is_available() else \"cpu\")\n",
    "# Xtrain = Xtrain.to(device=device)\n",
    "# Ytrain = Ytrain.to(device=device)\n",
    "device = \"cpu\"\n",
    "g = torch.Generator(device=device).manual_seed(2147483647)\n",
    "# C = torch.randn((27, 10), generator=g, device=device)\n",
    "# 尝试用一个固定值，做训练后loss能到2.17。如果是上面的随机值，loss能到2.05\n",
    "C = torch.full((27, 10), 0.5, device=device)\n",
    "W1 = torch.randn((30, 300), generator=g, device=device)\n",
    "b1 = torch.randn(300, generator=g, device=device)\n",
    "W2 = torch.randn((300, 27), generator=g, device=device)\n",
    "b2 = torch.randn(27, generator=g, device=device)\n",
    "\n",
    "params = [C, W1, b1, W2, b2]\n",
    "for p in params:\n",
    "  p.requires_grad = True\n",
    "print(sum(p.nelement() for p in params))"
   ],
   "metadata": {
    "collapsed": false,
    "ExecuteTime": {
     "end_time": "2024-03-21T01:33:27.754302600Z",
     "start_time": "2024-03-21T01:33:27.745304700Z"
    }
   },
   "id": "ad05b5ce2a5261d6"
  },
  {
   "cell_type": "code",
   "execution_count": 141,
   "outputs": [],
   "source": [
    "for k in range(200000):\n",
    "    ix = torch.randint(0, Xtrain.shape[0], (128,))\n",
    "\n",
    "    # forward\n",
    "    emb = C[Xtrain[ix]]\n",
    "    h = torch.tanh(emb.view(-1, 30) @ W1 + b1)\n",
    "    logits = h @ W2 + b2\n",
    "    loss = F.cross_entropy(logits, Ytrain[ix])\n",
    "\n",
    "    # backward\n",
    "    for p in params:\n",
    "        p.grad = None\n",
    "    loss.backward()\n",
    "\n",
    "    lr = 0.01\n",
    "    for p in params:\n",
    "        p.data += -lr * p.grad"
   ],
   "metadata": {
    "collapsed": false,
    "ExecuteTime": {
     "end_time": "2024-03-21T01:30:24.591045600Z",
     "start_time": "2024-03-21T01:28:13.739616700Z"
    }
   },
   "id": "e66e4bdcca197d00"
  },
  {
   "cell_type": "code",
   "execution_count": 142,
   "outputs": [
    {
     "data": {
      "text/plain": "tensor(2.1713, grad_fn=<NllLossBackward0>)"
     },
     "execution_count": 142,
     "metadata": {},
     "output_type": "execute_result"
    }
   ],
   "source": [
    "# 当前在trainingset的loss\n",
    "emb = C[Xtrain] \n",
    "h = torch.tanh(emb.view(-1, 30) @ W1 + b1) \n",
    "logits = h @ W2 + b2\n",
    "loss = F.cross_entropy(logits, Ytrain)\n",
    "loss"
   ],
   "metadata": {
    "collapsed": false,
    "ExecuteTime": {
     "end_time": "2024-03-21T01:32:21.894167300Z",
     "start_time": "2024-03-21T01:32:21.670419200Z"
    }
   },
   "id": "7cce632b0b619827"
  },
  {
   "cell_type": "code",
   "execution_count": 143,
   "outputs": [
    {
     "data": {
      "text/plain": "tensor(2.1873, grad_fn=<NllLossBackward0>)"
     },
     "execution_count": 143,
     "metadata": {},
     "output_type": "execute_result"
    }
   ],
   "source": [
    "# 当前在dev set的loss\n",
    "emb = C[Xdev] \n",
    "h = torch.tanh(emb.view(-1, 30) @ W1 + b1) \n",
    "logits = h @ W2 + b2\n",
    "loss = F.cross_entropy(logits, Ydev)\n",
    "loss"
   ],
   "metadata": {
    "collapsed": false,
    "ExecuteTime": {
     "end_time": "2024-03-21T01:32:25.586447Z",
     "start_time": "2024-03-21T01:32:25.546389600Z"
    }
   },
   "id": "a556db340f6e8946"
  },
  {
   "cell_type": "code",
   "execution_count": 15,
   "outputs": [
    {
     "data": {
      "text/plain": "<Figure size 800x800 with 1 Axes>",
      "image/png": "[encoded data removed]"
     },
     "metadata": {},
     "output_type": "display_data"
    }
   ],
   "source": [
    "from matplotlib import pyplot as plt\n",
    "# visualize dimensions 0 and 1 of the embedding matrix C for all characters\n",
    "# 只有在C的shape是(27,2)时才能看到这个图像，以下是训练前的效果\n",
    "plt.figure(figsize=(8,8))\n",
    "plt.scatter(C[:,0].data, C[:,1].data, s=200)\n",
    "for i in range(C.shape[0]):\n",
    "    plt.text(C[i,0].item(), C[i,1].item(), i_to_s[i], ha=\"center\", va=\"center\", color='white')\n",
    "plt.grid('minor')"
   ],
   "metadata": {
    "collapsed": false,
    "ExecuteTime": {
     "end_time": "2024-03-20T08:38:49.452298400Z",
     "start_time": "2024-03-20T08:38:48.688495800Z"
    }
   },
   "id": "95d8961ecef9f40"
  },
  {
   "cell_type": "code",
   "execution_count": 110,
   "outputs": [
    {
     "data": {
      "text/plain": "<Figure size 800x800 with 1 Axes>",
      "image/png": "[encoded data removed]"
     },
     "metadata": {},
     "output_type": "display_data"
    }
   ],
   "source": [
    "# 二维的C训练后，最低能到2.15多的loss，图像中可以看到aeiou字母的位置较近，q和.就属于比较特殊的字符(后来不小心用10维的C覆盖了，导致看不到效果)\n",
    "plt.figure(figsize=(8,8))\n",
    "plt.scatter(C[:,0].data, C[:,1].data, s=200)\n",
    "for i in range(C.shape[0]):\n",
    "    plt.text(C[i,0].item(), C[i,1].item(), i_to_s[i], ha=\"center\", va=\"center\", color='white')\n",
    "plt.grid('minor')"
   ],
   "metadata": {
    "collapsed": false,
    "ExecuteTime": {
     "end_time": "2024-03-20T09:47:50.284706300Z",
     "start_time": "2024-03-20T09:47:50.115190200Z"
    }
   },
   "id": "751e446698863954"
  },
  {
   "cell_type": "code",
   "execution_count": 112,
   "outputs": [
    {
     "name": "stdout",
     "output_type": "stream",
     "text": [
      "montaymyah.\n",
      "seel.\n",
      "nihahlia.\n",
      "emmadiendraeg.\n",
      "adelynnelin.\n",
      "shivonna.\n",
      "keiseananaraelyzion.\n",
      "kalin.\n",
      "shubergo.\n",
      "griel.\n",
      "kindreelynn.\n",
      "novana.\n",
      "ubakarder.\n",
      "yaruemeha.\n",
      "kayshayton.\n",
      "azhia.\n",
      "salynn.\n",
      "unizabelle.\n",
      "ren.\n",
      "crevis.\n"
     ]
    }
   ],
   "source": [
    "# sample from the model\n",
    "g = torch.Generator().manual_seed(2147483647 + 10)\n",
    "\n",
    "for _ in range(20):\n",
    "    \n",
    "    out = []\n",
    "    context = [0] * block_size # initialize with all ...\n",
    "    while True:\n",
    "      emb = C[torch.tensor([context])] # (1,block_size,d)\n",
    "      h = torch.tanh(emb.view(1, -1) @ W1 + b1)\n",
    "      logits = h @ W2 + b2\n",
    "      probs = F.softmax(logits, dim=1)\n",
    "      ix = torch.multinomial(probs, num_samples=1, generator=g).item()\n",
    "      context = context[1:] + [ix]\n",
    "      out.append(ix)\n",
    "      if ix == 0:\n",
    "        break\n",
    "    \n",
    "    print(''.join(i_to_s[i] for i in out))"
   ],
   "metadata": {
    "collapsed": false,
    "ExecuteTime": {
     "end_time": "2024-03-20T09:50:42.673945300Z",
     "start_time": "2024-03-20T09:50:42.632944800Z"
    }
   },
   "id": "32a33e1082ccd088"
  },
  {
   "cell_type": "code",
   "execution_count": 113,
   "outputs": [
    {
     "data": {
      "text/plain": "tensor([[ 1.1493e+00,  1.4195e-01,  1.1928e-01, -1.2696e+00,  3.2213e-01,\n          8.8627e-02, -1.3128e+00,  7.3317e-01,  2.0498e-01,  6.8876e-01],\n        [-1.0397e-01,  7.2175e-01, -2.1446e-01, -6.6167e-02,  1.0880e+00,\n          2.4408e+00,  1.4776e+00, -1.6429e+00,  7.7236e-01, -6.0891e-01],\n        [ 6.7677e-01,  2.1981e-01, -1.2030e+00,  2.4877e-01,  1.4625e-02,\n          1.3124e+00,  8.7588e-01,  5.4833e-01, -9.2019e-01,  1.3118e-03],\n        [-2.9307e-01,  2.5258e-01, -3.0217e-01,  5.1346e-01, -2.3140e-01,\n          2.0277e-02, -6.3538e-01,  6.8106e-01, -5.0752e-01, -1.7199e-02],\n        [-5.2750e-02,  1.4432e-01, -3.5217e-02, -7.4435e-02, -3.7240e-01,\n          5.1445e-01, -1.2592e-01,  1.9859e-01, -2.8449e-01, -2.5125e-01],\n        [ 4.6386e-03,  4.6146e-01,  3.4016e-01, -4.9285e-01,  6.3691e-02,\n          8.0999e-02,  5.2177e-02, -1.2344e-01, -5.3216e-01,  6.2547e-02],\n        [-8.5660e-02, -4.0949e-01, -1.2912e+00, -8.6761e-01,  6.0006e-01,\n         -6.1580e-01,  1.4784e+00,  1.0621e+00, -1.0107e+00, -1.4472e-01],\n        [ 1.2708e-01,  3.1930e-01, -3.4365e-01,  4.5967e-01, -1.3429e-01,\n          9.2966e-01, -1.1012e-01,  2.4869e-01, -2.2979e-01, -3.3312e-01],\n        [-1.8325e-01,  4.5129e-01, -2.3429e-01, -8.6561e-01, -6.8149e-01,\n          2.7104e-01,  1.0038e-01, -2.0535e-01, -3.4842e-01,  5.5641e-02],\n        [-2.6845e-01,  2.8124e-01,  2.5506e-01, -4.3856e-01, -1.4674e-01,\n         -5.8868e-02, -1.3466e-01, -5.0330e-01, -4.4033e-01,  2.0230e-01],\n        [-9.7487e-01, -6.6500e-01, -1.9865e+00, -5.1862e-01, -9.2698e-01,\n         -1.5752e-01, -1.7702e+00, -7.1917e-01, -1.3062e+00,  1.7711e-01],\n        [-2.4168e-01,  4.7384e-01, -6.4160e-02, -3.2489e-01, -3.1144e-01,\n          2.8996e-01, -4.3287e-02,  2.7996e-01,  1.4650e-01, -1.1618e-01],\n        [ 1.8660e-01,  7.6844e-02, -3.5587e-01, -4.3488e-01, -1.8978e-01,\n          4.3751e-01, -3.8256e-01, -2.6952e-01, -6.0598e-02, -5.8973e-02],\n        [-4.3331e-01, -2.4299e-02, -1.9617e+00, -1.2716e+00, -2.6736e-01,\n          5.6336e-01,  1.2963e+00,  4.2797e-02,  5.9102e-01,  1.7962e+00],\n        [ 1.3766e-01,  2.8755e-02,  4.9169e-02, -2.5646e-01, -6.1455e-01,\n          9.8316e-02,  1.3677e-01, -3.2972e-01, -3.7169e-01, -5.6359e-01],\n        [ 3.2723e-01,  1.2079e-01, -2.4432e-01,  7.9616e-01,  1.6813e-01,\n          8.4698e-01,  2.2987e-01,  2.0608e-01, -1.0563e+00,  1.8139e-01],\n        [-2.0621e+00,  2.7319e-01, -6.2018e-02,  5.5804e-01,  1.1223e+00,\n         -5.5731e-01,  5.2681e-01,  2.1618e-01, -3.2311e-01, -9.2840e-01],\n        [ 8.0796e-01,  8.1607e-01, -2.4973e-01, -2.1657e-01,  8.5021e-03,\n         -3.6637e-01, -6.2235e-01, -3.9927e-02,  1.4968e+00,  1.6293e-01],\n        [ 5.0537e-01,  1.5667e-01, -2.7891e-01, -3.7661e-02, -2.1893e-01,\n          2.0299e-01,  3.1850e-01, -2.2632e-02, -1.2867e-01, -3.8085e-01],\n        [ 3.1912e-01,  5.3530e-01, -1.4868e-01,  4.4089e-01, -4.0069e-01,\n         -1.1999e-01,  2.4970e-01, -1.1399e-01, -1.7859e-01, -3.4449e-01],\n        [ 2.0024e-01,  2.5742e-01, -3.4614e-02,  4.4893e-01, -5.4173e-01,\n          3.4086e-01,  1.1018e-01,  2.1775e-02, -1.6838e-01, -3.3690e-01],\n        [-1.8177e-01,  4.7106e-01,  3.4709e-01, -3.5297e-01, -2.5404e-01,\n          2.4471e-01,  2.2420e-01, -3.3867e-01, -3.9563e-01,  4.6159e-01],\n        [ 1.2254e-01,  3.4930e-01, -7.0180e-01,  9.9877e-03, -2.8713e-01,\n          3.6466e-01, -3.3059e-02,  1.1229e-01, -4.7944e-01, -2.8612e-01],\n        [ 2.4746e-01,  3.4841e-03, -3.8260e-01,  4.6780e-01, -3.7682e-02,\n          3.7506e-01,  3.7113e-01,  4.1321e-01, -3.3923e-01, -3.1272e-01],\n        [ 1.8414e-01,  4.5173e-01, -1.0108e-01,  6.8907e-02, -1.4503e-01,\n         -4.8974e-02,  1.2854e-01,  4.1323e-02, -3.2191e-01, -4.9252e-01],\n        [-5.0235e-01,  3.7486e-01,  4.3336e-02, -6.0703e-01, -9.5796e-02,\n          6.1539e-02,  1.1743e-02, -3.7883e-01, -4.5491e-01, -2.0076e-01],\n        [ 6.5379e-02,  3.9564e-01, -2.4936e-01, -2.4896e-02, -5.1545e-01,\n         -1.2009e-02,  2.6300e-01, -4.8509e-02, -1.1564e-01, -2.2018e-01]],\n       requires_grad=True)"
     },
     "execution_count": 113,
     "metadata": {},
     "output_type": "execute_result"
    }
   ],
   "source": [
    "C"
   ],
   "metadata": {
    "collapsed": false,
    "ExecuteTime": {
     "end_time": "2024-03-21T01:00:56.138972400Z",
     "start_time": "2024-03-21T01:00:56.089973200Z"
    }
   },
   "id": "978dae8c2dfedb59"
  }
 ],
 "metadata": {
  "kernelspec": {
   "display_name": "Python 3",
   "language": "python",
   "name": "python3"
  },
  "language_info": {
   "codemirror_mode": {
    "name": "ipython",
    "version": 2
   },
   "file_extension": ".py",
   "mimetype": "text/x-python",
   "name": "python",
   "nbconvert_exporter": "python",
   "pygments_lexer": "ipython2",
   "version": "2.7.6"
  }
 },
 "nbformat": 4,
 "nbformat_minor": 5
}
