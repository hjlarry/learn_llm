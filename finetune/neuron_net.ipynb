{
 "cells": [
  {
   "cell_type": "code",
   "execution_count": 4,
   "id": "initial_id",
   "metadata": {
    "collapsed": true,
    "ExecuteTime": {
     "end_time": "2024-03-13T05:05:36.214005500Z",
     "start_time": "2024-03-13T05:05:36.194005400Z"
    }
   },
   "outputs": [],
   "source": [
    "import math\n",
    "\n",
    "\n",
    "class Value:\n",
    "    def __init__(self, data, children=None, op='', label=''):\n",
    "        self.data = data\n",
    "        self.grad = 0.0\n",
    "        self._backward = lambda: None\n",
    "        self._prev = set(children) if children else ()\n",
    "        self._op = op\n",
    "        self.label = label\n",
    "\n",
    "    def __repr__(self):\n",
    "        return f\"Value({self.data})\"\n",
    "\n",
    "    def __add__(self, other):\n",
    "        other = other if isinstance(other, Value) else Value(other)\n",
    "        out = self.data + other.data\n",
    "        out = Value(out, (self, other), \"+\")\n",
    "\n",
    "        def _backward():\n",
    "            self.grad += 1.0 * out.grad\n",
    "            other.grad += 1.0 * out.grad\n",
    "\n",
    "        out._backward = _backward\n",
    "        return out\n",
    "\n",
    "    def __radd__(self, other):\n",
    "        return self + other\n",
    "\n",
    "    def __mul__(self, other):\n",
    "        other = other if isinstance(other, Value) else Value(other)\n",
    "        out = self.data * other.data\n",
    "        out = Value(out, (self, other), \"*\")\n",
    "\n",
    "        def _backward():\n",
    "            self.grad += other.data * out.grad\n",
    "            other.grad += self.data * out.grad\n",
    "\n",
    "        out._backward = _backward\n",
    "        return out\n",
    "\n",
    "    def __sub__(self, other):  # self-other\n",
    "        return self + (-other)\n",
    "\n",
    "    def __rsub__(self, other):  # other -self\n",
    "        return -self + other\n",
    "\n",
    "    def __neg__(self):  # -self\n",
    "        return self * -1\n",
    "\n",
    "    def __truediv__(self, other):\n",
    "        # x/y == x*y**-1\n",
    "        return self * other ** -1\n",
    "\n",
    "    def __rmul__(self, other):\n",
    "        return self * other\n",
    "\n",
    "    def __pow__(self, other):\n",
    "        other = other if isinstance(other, Value) else Value(other)\n",
    "        out = self.data ** other.data\n",
    "        out = Value(out, (self, other), \"pow\")\n",
    "\n",
    "        def _backward():\n",
    "            self.grad += other.data * (self.data ** (other.data - 1)) * out.grad\n",
    "\n",
    "        out._backward = _backward\n",
    "        return out\n",
    "\n",
    "    def exp(self):\n",
    "        out = Value(math.exp(self.data), (self,), \"exp\")\n",
    "\n",
    "        def _backward():\n",
    "            self.grad += out.data * out.grad\n",
    "\n",
    "        out._backward = _backward\n",
    "        return out\n",
    "\n",
    "    def tanh(self):\n",
    "        # tanh x = e的2x次方减1 除以 e的2x次方加1\n",
    "        x = self.data\n",
    "        v = (math.exp(2 * x) - 1) / (math.exp(2 * x) + 1)\n",
    "        out = Value(v, (self,), 'tanh')\n",
    "\n",
    "        def _backward():\n",
    "            self.grad += (1 - v ** 2) * out.grad\n",
    "\n",
    "        out._backward = _backward\n",
    "        return out\n",
    "\n",
    "    def backward(self):\n",
    "        # 拓扑排序，只会沿着从左向右一个方向\n",
    "        topo = []\n",
    "        visited = set()\n",
    "\n",
    "        def build_topo(v):\n",
    "            if v not in visited:\n",
    "                visited.add(v)\n",
    "                for child in v._prev:\n",
    "                    build_topo(child)\n",
    "                topo.append(v)\n",
    "\n",
    "        build_topo(self)\n",
    "        self.grad = 1\n",
    "        for node in reversed(topo):\n",
    "            node._backward()"
   ]
  },
  {
   "cell_type": "code",
   "execution_count": 14,
   "outputs": [],
   "source": [
    "import random\n",
    "\n",
    "\n",
    "class Neuron:\n",
    "    def __init__(self, n_in):\n",
    "        self.weight = [Value(random.uniform(-1, 1)) for _ in range(n_in)]\n",
    "        self.bias = Value(random.uniform(-1, 1))\n",
    "\n",
    "    def __call__(self, x):\n",
    "        # w*x +b\n",
    "        act = sum(w * x for w, x in zip(self.weight, x)) + self.bias\n",
    "        out = act.tanh()\n",
    "        return out\n",
    "    \n",
    "    def parameters(self):\n",
    "        return self.weight + [self.bias]\n",
    "\n",
    "\n",
    "class Layer:\n",
    "    def __init__(self, n_in, n_out):\n",
    "        self.neurons = [Neuron(n_in) for _ in range(n_out)]\n",
    "\n",
    "    def __call__(self, x):\n",
    "        outs = [n(x) for n in self.neurons]\n",
    "        return outs[0] if len(outs) == 1 else outs\n",
    "    \n",
    "    def parameters(self):\n",
    "        return [p for n in self.neurons for p in n.parameters()]\n",
    "\n",
    "\n",
    "class MLP:\n",
    "    def __init__(self, n_in, n_outs):\n",
    "        sz = [n_in] + n_outs\n",
    "        self.layers = [Layer(sz[i], sz[i + 1]) for i in range(len(n_outs))]\n",
    "\n",
    "    def __call__(self, x):\n",
    "        for layer in self.layers:\n",
    "            x = layer(x)\n",
    "        return x\n",
    "    \n",
    "    def parameters(self):\n",
    "        return [p for l in self.layers for p in l.parameters()]"
   ],
   "metadata": {
    "collapsed": false,
    "ExecuteTime": {
     "end_time": "2024-03-13T06:43:46.100082200Z",
     "start_time": "2024-03-13T06:43:46.089081100Z"
    }
   },
   "id": "228a1b2763ac5099"
  },
  {
   "cell_type": "code",
   "execution_count": 56,
   "outputs": [],
   "source": [
    "xs = [\n",
    "    [2.0, 3.0, -1.0],\n",
    "    [3.0, -1.0, 0.5],\n",
    "    [0.5, 1.0, 1.0],\n",
    "    [1.0, 1.0, -1.0],\n",
    "]\n",
    "ys = [1.0, -1.0, -1.0, 1.0]  # desired targets\n",
    "m = MLP(3, [4, 4, 1])\n"
   ],
   "metadata": {
    "collapsed": false,
    "ExecuteTime": {
     "end_time": "2024-03-13T07:44:55.030062700Z",
     "start_time": "2024-03-13T07:44:55.021063200Z"
    }
   },
   "id": "e2e9233cdf5751af"
  },
  {
   "cell_type": "code",
   "execution_count": 63,
   "outputs": [
    {
     "name": "stdout",
     "output_type": "stream",
     "text": [
      "0 Value(0.004681766727090079)\n",
      "1 Value(0.004617289408884947)\n",
      "2 Value(0.004554575629617143)\n",
      "3 Value(0.00449355239529506)\n",
      "4 Value(0.004434150789942387)\n",
      "5 Value(0.004376305687710162)\n",
      "6 Value(0.004319955489551471)\n",
      "7 Value(0.004265041882007742)\n",
      "8 Value(0.004211509615933404)\n",
      "9 Value(0.004159306303230845)\n",
      "10 Value(0.004108382229879395)\n",
      "11 Value(0.004058690183729633)\n",
      "12 Value(0.004010185295697836)\n",
      "13 Value(0.003962824893139459)\n",
      "14 Value(0.003916568364308243)\n",
      "15 Value(0.0038713770329192993)\n",
      "16 Value(0.003827214041934074)\n",
      "17 Value(0.0037840442457731964)\n",
      "18 Value(0.0037418341102413433)\n",
      "19 Value(0.0037005516195179554)\n"
     ]
    }
   ],
   "source": [
    "for k in range(20):\n",
    "    # forward process\n",
    "    ypred = [m(x) for x in xs]\n",
    "    loss = sum([(yout - ygt) ** 2 for yout, ygt in zip(ys, ypred)])\n",
    "    \n",
    "    # backward process\n",
    "    # after each update, remember to init the new grad\n",
    "    # the final loss is changed, so the local derivatives should be changed\n",
    "    for p in m.parameters():\n",
    "        p.grad = 0\n",
    "    loss.backward()\n",
    "    \n",
    "    # update parameters\n",
    "    for p in m.parameters():\n",
    "        p.data += -0.1 * p.grad \n",
    "    \n",
    "    print(k, loss)"
   ],
   "metadata": {
    "collapsed": false,
    "ExecuteTime": {
     "end_time": "2024-03-13T07:45:28.431927400Z",
     "start_time": "2024-03-13T07:45:28.402929500Z"
    }
   },
   "id": "7c95bf79cc0c8b9b"
  },
  {
   "cell_type": "code",
   "execution_count": 64,
   "outputs": [
    {
     "data": {
      "text/plain": "[Value(0.9763988755653319),\n Value(-0.9695442214205039),\n Value(-0.9708474460408598),\n Value(0.9630390382469098)]"
     },
     "execution_count": 64,
     "metadata": {},
     "output_type": "execute_result"
    }
   ],
   "source": [
    "ypred"
   ],
   "metadata": {
    "collapsed": false,
    "ExecuteTime": {
     "end_time": "2024-03-13T07:45:32.287855300Z",
     "start_time": "2024-03-13T07:45:32.278858700Z"
    }
   },
   "id": "c280323998e00a4f"
  },
  {
   "cell_type": "code",
   "execution_count": null,
   "outputs": [],
   "source": [],
   "metadata": {
    "collapsed": false
   },
   "id": "8e2ae2c4bfeeab4a"
  }
 ],
 "metadata": {
  "kernelspec": {
   "display_name": "Python 3",
   "language": "python",
   "name": "python3"
  },
  "language_info": {
   "codemirror_mode": {
    "name": "ipython",
    "version": 2
   },
   "file_extension": ".py",
   "mimetype": "text/x-python",
   "name": "python",
   "nbconvert_exporter": "python",
   "pygments_lexer": "ipython2",
   "version": "2.7.6"
  }
 },
 "nbformat": 4,
 "nbformat_minor": 5
}
