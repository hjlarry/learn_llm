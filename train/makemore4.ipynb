{
 "cells": [
  {
   "cell_type": "code",
   "execution_count": 2,
   "id": "initial_id",
   "metadata": {
    "collapsed": true,
    "ExecuteTime": {
     "end_time": "2024-03-27T01:51:59.960714200Z",
     "start_time": "2024-03-27T01:51:57.497926300Z"
    }
   },
   "outputs": [
    {
     "name": "stdout",
     "output_type": "stream",
     "text": [
      "vocab_size: 27\n",
      "x.shape is torch.Size([182625, 3]), y.shape is torch.Size([182625])\n",
      "x.shape is torch.Size([22655, 3]), y.shape is torch.Size([22655])\n",
      "x.shape is torch.Size([22866, 3]), y.shape is torch.Size([22866])\n"
     ]
    }
   ],
   "source": [
    "# 因为backprop是不完美的抽象，我们需要一步步的手动实现来理解它，便于debug和优化神经网络\n",
    "import random\n",
    "import torch\n",
    "import torch.nn.functional as F\n",
    "\n",
    "words = open('names.txt', 'r').read().splitlines()\n",
    "chars = sorted(list(set(''.join(words))))\n",
    "s_to_i = {s: i + 1 for i, s in enumerate(chars)}\n",
    "i_to_s = {i + 1: s for i, s in enumerate(chars)}\n",
    "s_to_i['.'] = 0\n",
    "i_to_s[0] = '.'\n",
    "block_size = 3\n",
    "vocab_size = len(i_to_s)\n",
    "print(f\"vocab_size: {vocab_size}\")\n",
    "\n",
    "\n",
    "def build_dataset(words):\n",
    "    X, Y = [], []\n",
    "    for w in words:\n",
    "        context = [0] * block_size\n",
    "        for ch in w + '.':\n",
    "            ix = s_to_i[ch]\n",
    "            X.append(context)\n",
    "            Y.append(ix)\n",
    "            context = context[1:] + [ix]\n",
    "\n",
    "    X = torch.tensor(X)\n",
    "    Y = torch.tensor(Y)\n",
    "    print(f\"x.shape is {X.shape}, y.shape is {Y.shape}\")\n",
    "    return X, Y\n",
    "\n",
    "\n",
    "random.seed(42)\n",
    "random.shuffle(words)\n",
    "n1 = int(0.8 * len(words))\n",
    "n2 = int(0.9 * len(words))\n",
    "Xtrain, Ytrain = build_dataset(words[:n1])\n",
    "Xdev, Ydev = build_dataset(words[n1:n2])\n",
    "Xtest, Ytest = build_dataset(words[n2:])"
   ]
  },
  {
   "cell_type": "code",
   "execution_count": 3,
   "outputs": [],
   "source": [
    "# 比较自己算的导数和pytorch的导数的差异， item是某一项， dt是自己算的\n",
    "def cmp(item, dt, t):\n",
    "    # 是否完全一样\n",
    "    exact = torch.all(dt == t.grad).item()\n",
    "    # 是否非常接近\n",
    "    approximate = torch.allclose(dt, t.grad)\n",
    "    # 最大的差异项是多少\n",
    "    maxdiff = (dt - t.grad).abs().max().item()\n",
    "    print(f\"{item:15s} | exact: {str(exact):5s}, approximate: {str(approximate):5s}, maxdiff: {maxdiff}\")"
   ],
   "metadata": {
    "collapsed": false,
    "ExecuteTime": {
     "end_time": "2024-03-27T01:52:02.829963400Z",
     "start_time": "2024-03-27T01:52:02.826484600Z"
    }
   },
   "id": "6698130e06f04a74"
  },
  {
   "cell_type": "code",
   "execution_count": 37,
   "outputs": [
    {
     "name": "stdout",
     "output_type": "stream",
     "text": [
      "4137\n"
     ]
    }
   ],
   "source": [
    "n_embd = 10\n",
    "n_hidden = 64\n",
    "\n",
    "# 初始化参数时，并没有将有的参数设为0，而是乘一个很小的系数，避免手动计算backprop时参数是否为0造成影响\n",
    "g = torch.Generator().manual_seed(2147483647)\n",
    "C = torch.randn((vocab_size, n_embd), generator=g)\n",
    "W1 = torch.randn((n_embd * block_size, n_hidden), generator=g) * (5 / 3) / ((n_embd * block_size) ** 0.5)\n",
    "b1 = torch.randn(n_hidden, generator=g) * 0.1\n",
    "W2 = torch.randn((n_hidden, vocab_size), generator=g) * 0.1\n",
    "b2 = torch.randn(vocab_size, generator=g) * 0.1\n",
    "\n",
    "bngain = torch.ones((1, n_hidden)) * 0.1 + 1.0\n",
    "bnbias = torch.zeros((1, n_hidden)) * 0.1\n",
    "\n",
    "params = [C, W1, b1, W2, b2, bngain, bnbias]\n",
    "for p in params:\n",
    "    p.requires_grad = True\n",
    "print(sum(p.nelement() for p in params))"
   ],
   "metadata": {
    "collapsed": false,
    "ExecuteTime": {
     "end_time": "2024-03-27T07:59:20.594657700Z",
     "start_time": "2024-03-27T07:59:20.587139800Z"
    }
   },
   "id": "27d8e388e517a467"
  },
  {
   "cell_type": "code",
   "execution_count": 38,
   "outputs": [],
   "source": [
    "batch_size = 32\n",
    "n = batch_size  # a shorter variable also, for convenience\n",
    "# construct a minibatch\n",
    "ix = torch.randint(0, Xtrain.shape[0], (batch_size,), generator=g)\n",
    "Xb, Yb = Xtrain[ix], Ytrain[ix]"
   ],
   "metadata": {
    "collapsed": false,
    "ExecuteTime": {
     "end_time": "2024-03-27T07:59:22.590478400Z",
     "start_time": "2024-03-27T07:59:22.569176400Z"
    }
   },
   "id": "75d0b40799b2e1b2"
  },
  {
   "cell_type": "code",
   "execution_count": 49,
   "outputs": [
    {
     "data": {
      "text/plain": "tensor(3.3482, grad_fn=<NegBackward0>)"
     },
     "execution_count": 49,
     "metadata": {},
     "output_type": "execute_result"
    }
   ],
   "source": [
    "# forward, 为了算导数方便，每一步都是最小化的公式，cross_entropy也需要自己写\n",
    "emb = C[Xb]  # embed the characters into vectors\n",
    "embcat = emb.view(emb.shape[0], -1)  # concatenate the vectors\n",
    "# Linear layer 1\n",
    "hprebn = embcat @ W1 + b1  # hidden layer pre-activation\n",
    "# BatchNorm layer\n",
    "bnmeani = 1 / n * hprebn.sum(0, keepdim=True)\n",
    "bndiff = hprebn - bnmeani\n",
    "bndiff2 = bndiff ** 2\n",
    "bnvar = 1 / (n - 1) * bndiff2.sum(0, keepdim=True)\n",
    "bnvar_inv = (bnvar + 1e-5) ** -0.5\n",
    "bnraw = bndiff * bnvar_inv\n",
    "hpreact = bngain * bnraw + bnbias\n",
    "# non-linear layer\n",
    "h = torch.tanh(hpreact)\n",
    "# Linear layer 1\n",
    "logits = h @ W2 + b2\n",
    "# cross_entropy loss\n",
    "logit_max = logits.max(1, keepdim=True).values\n",
    "norm_logits = logits - logit_max  # subtract max for numerical stability\n",
    "counts = norm_logits.exp()\n",
    "counts_sum = counts.sum(1, keepdim=True)\n",
    "# x**-1 == 1/x, but sth strange for 1/x here\n",
    "counts_sum_inv = counts_sum ** -1\n",
    "probs = counts * counts_sum_inv\n",
    "logprobs = probs.log()\n",
    "loss = -logprobs[range(n), Yb].mean()\n",
    "\n",
    "# PyTorch backward pass\n",
    "for p in params:\n",
    "    p.grad = None\n",
    "for t in [logprobs, probs, counts, counts_sum, counts_sum_inv,  # afaik there is no cleaner way\n",
    "          norm_logits, logit_max, logits, h, hprebn, bnraw,\n",
    "          bnvar_inv, bnvar, bndiff2, bndiff, hpreact, bnmeani,\n",
    "          embcat, emb]:\n",
    "    t.retain_grad()\n",
    "loss.backward()\n",
    "loss"
   ],
   "metadata": {
    "collapsed": false,
    "ExecuteTime": {
     "end_time": "2024-03-27T09:56:16.045904800Z",
     "start_time": "2024-03-27T09:56:16.019330900Z"
    }
   },
   "id": "83f67209a9b86222"
  },
  {
   "cell_type": "code",
   "execution_count": 47,
   "outputs": [
    {
     "name": "stdout",
     "output_type": "stream",
     "text": [
      "logprobs        | exact: True , approximate: True , maxdiff: 0.0\n",
      "probs           | exact: True , approximate: True , maxdiff: 0.0\n",
      "counts_sum_inv  | exact: True , approximate: True , maxdiff: 0.0\n",
      "counts_sum      | exact: True , approximate: True , maxdiff: 0.0\n",
      "counts          | exact: True , approximate: True , maxdiff: 0.0\n",
      "norm_logits     | exact: True , approximate: True , maxdiff: 0.0\n",
      "logits_max      | exact: True , approximate: True , maxdiff: 0.0\n",
      "logits          | exact: True , approximate: True , maxdiff: 0.0\n",
      "h               | exact: True , approximate: True , maxdiff: 0.0\n",
      "W2              | exact: True , approximate: True , maxdiff: 0.0\n",
      "b2              | exact: True , approximate: True , maxdiff: 0.0\n",
      "hpreact         | exact: True , approximate: True , maxdiff: 0.0\n",
      "bngain          | exact: True , approximate: True , maxdiff: 0.0\n",
      "bnraw           | exact: True , approximate: True , maxdiff: 0.0\n",
      "bnbias          | exact: True , approximate: True , maxdiff: 0.0\n",
      "bnvar_inv       | exact: True , approximate: True , maxdiff: 0.0\n",
      "bnvar           | exact: True , approximate: True , maxdiff: 0.0\n",
      "bndiff2         | exact: True , approximate: True , maxdiff: 0.0\n",
      "bndiff          | exact: True , approximate: True , maxdiff: 0.0\n",
      "bnmeani         | exact: True , approximate: True , maxdiff: 0.0\n",
      "hprebn          | exact: True , approximate: True , maxdiff: 0.0\n",
      "embcat          | exact: True , approximate: True , maxdiff: 0.0\n",
      "W1              | exact: True , approximate: True , maxdiff: 0.0\n",
      "b1              | exact: True , approximate: True , maxdiff: 0.0\n",
      "emb             | exact: True , approximate: True , maxdiff: 0.0\n",
      "C               | exact: True , approximate: True , maxdiff: 0.0\n"
     ]
    }
   ],
   "source": [
    "dlogprobs = torch.zeros_like(logprobs)\n",
    "dlogprobs[range(n), Yb] = -1.0 / n\n",
    "cmp(\"logprobs\", dlogprobs, logprobs)\n",
    "\n",
    "# y = x.log(), so dx=1/x, with chain rule,dprobs/dloss = dx * dlogprobs\n",
    "dprobs = (1.0 / probs) * dlogprobs\n",
    "cmp(\"probs\", dprobs, probs)\n",
    "\n",
    "# counts_sum.shape == (32, 27), counts.shape == (32, 1)\n",
    "# counts is broadcast to (32, 27) while counts * counts_sum_inv\n",
    "dcounts_sum_inv = (counts * dprobs).sum(1, keepdim=True)\n",
    "cmp(\"counts_sum_inv\", dcounts_sum_inv, counts_sum_inv)\n",
    "\n",
    "# y=x**-1, dx= -1/x**2\n",
    "dcounts_sum = -1 / counts_sum ** 2 * dcounts_sum_inv\n",
    "cmp(\"counts_sum\", dcounts_sum, counts_sum)\n",
    "\n",
    "# counts被用了两次，probs = counts * counts_sum_inv 和 counts_sum_inv = counts.sum(1, keepdim=True) ** -1\n",
    "dcounts = counts_sum_inv * dprobs + torch.ones_like(counts) * dcounts_sum\n",
    "cmp(\"counts\", dcounts, counts)\n",
    "\n",
    "# y = x.exp(), dx=y\n",
    "dnorm_logits = counts * dcounts\n",
    "cmp(\"norm_logits\", dnorm_logits, norm_logits)\n",
    "\n",
    "dlogit_max = (-dnorm_logits).sum(1, keepdim=True)\n",
    "cmp(\"logits_max\", dlogit_max, logit_max)\n",
    "\n",
    "# 同样logits也属于两个分支，logit_max是取每列最大的值，所以其导数应该是找到它们的位置放成1\n",
    "dlogits = dnorm_logits + F.one_hot(logits.max(1).indices, num_classes=logits.shape[1]) * dlogit_max\n",
    "cmp(\"logits\", dlogits, logits)\n",
    "\n",
    "# 小技巧，仅通过计算最终导数的shape得到导数的公式：dh.shape == h.shape == (32,64), dlogits.shape == (32, 27), W.shape == (64, 27)\n",
    "dh = dlogits @ W2.T\n",
    "cmp(\"h\", dh, h)\n",
    "dW2 = h.T @ dlogits\n",
    "cmp(\"W2\", dW2, W2)\n",
    "db2 = dlogits.sum(0)\n",
    "cmp(\"b2\", db2, b2)\n",
    "\n",
    "dhpreact = (1.0 - h ** 2) * dh\n",
    "cmp(\"hpreact\", dhpreact, hpreact)\n",
    "\n",
    "dbngain = (bnraw * dhpreact).sum(0, keepdim=True)\n",
    "cmp(\"bngain\", dbngain, bngain)\n",
    "dbnraw = bngain * dhpreact\n",
    "cmp(\"bnraw\", dbnraw, bnraw)\n",
    "dbnbias = dhpreact.sum(0, keepdim=True)\n",
    "cmp(\"bnbias\", dbnbias, bnbias)\n",
    "\n",
    "dbnvar_inv = (bndiff * dbnraw).sum(0, keepdim=True)\n",
    "cmp(\"bnvar_inv\", dbnvar_inv, bnvar_inv)\n",
    "dbnvar = (-0.5 * (bnvar + 1e-5) ** -1.5) * dbnvar_inv\n",
    "cmp(\"bnvar\", dbnvar, bnvar)\n",
    "dbndiff2 = (1.0 / (n - 1)) * torch.ones_like(bndiff2) * dbnvar\n",
    "cmp(\"bndiff2\", dbndiff2, bndiff2)\n",
    "dbndiff = bnvar_inv * dbnraw + 2 * bndiff * dbndiff2\n",
    "cmp(\"bndiff\", dbndiff, bndiff)\n",
    "dbnmeani = (-dbndiff).sum(0)\n",
    "cmp(\"bnmeani\", dbnmeani, bnmeani)\n",
    "dhprebn = dbndiff.clone() + 1.0 / n * (torch.ones_like(hprebn) * dbnmeani)\n",
    "cmp(\"hprebn\", dhprebn, hprebn)\n",
    "demcat = dhprebn @ W1.T\n",
    "cmp(\"embcat\", demcat, embcat)\n",
    "dW1 = embcat.T @ dhprebn\n",
    "cmp(\"W1\", dW1, W1)\n",
    "db1 = dhprebn.sum(0)\n",
    "cmp(\"b1\", db1, b1)\n",
    "demb = demcat.view(emb.shape)\n",
    "cmp(\"emb\", demb, emb)\n",
    "dC = torch.zeros_like(C)\n",
    "for k in range(Xb.shape[0]):\n",
    "    for j in range(Xb.shape[1]):\n",
    "        i = Xb[k, j]\n",
    "        dC[i] += demb[k, j]\n",
    "cmp(\"C\", dC, C)"
   ],
   "metadata": {
    "collapsed": false,
    "ExecuteTime": {
     "end_time": "2024-03-27T08:08:30.981025100Z",
     "start_time": "2024-03-27T08:08:30.956871600Z"
    }
   },
   "id": "43ba1ee517af7265"
  },
  {
   "cell_type": "code",
   "execution_count": 50,
   "outputs": [
    {
     "name": "stdout",
     "output_type": "stream",
     "text": [
      "3.348198175430298 diff: 0.0\n"
     ]
    }
   ],
   "source": [
    "# Exercise 2: backprop through cross_entropy but all in one go\n",
    "# to complete this challenge look at the mathematical expression of the loss,\n",
    "# take the derivative, simplify the expression, and just write it out\n",
    "\n",
    "# forward pass\n",
    "\n",
    "# before:\n",
    "# logit_maxes = logits.max(1, keepdim=True).values\n",
    "# norm_logits = logits - logit_maxes # subtract max for numerical stability\n",
    "# counts = norm_logits.exp()\n",
    "# counts_sum = counts.sum(1, keepdims=True)\n",
    "# counts_sum_inv = counts_sum**-1 # if I use (1.0 / counts_sum) instead then I can't get backprop to be bit exact...\n",
    "# probs = counts * counts_sum_inv\n",
    "# logprobs = probs.log()\n",
    "# loss = -logprobs[range(n), Yb].mean()\n",
    "\n",
    "# now:\n",
    "loss_fast = F.cross_entropy(logits, Yb)\n",
    "print(loss_fast.item(), 'diff:', (loss_fast - loss).item())"
   ],
   "metadata": {
    "collapsed": false,
    "ExecuteTime": {
     "end_time": "2024-03-27T09:56:22.528841700Z",
     "start_time": "2024-03-27T09:56:22.509324Z"
    }
   },
   "id": "8b93d5b951ac2940"
  },
  {
   "cell_type": "code",
   "execution_count": 51,
   "outputs": [
    {
     "name": "stdout",
     "output_type": "stream",
     "text": [
      "logits          | exact: False, approximate: True , maxdiff: 6.28642737865448e-09\n"
     ]
    }
   ],
   "source": [
    "# backward pass\n",
    "\n",
    "dlogits = F.softmax(logits, 1)\n",
    "dlogits[range(n), Yb] -= 1\n",
    "dlogits /= n\n",
    "\n",
    "cmp('logits', dlogits, logits) # I can only get approximate to be true, my maxdiff is 6e-9"
   ],
   "metadata": {
    "collapsed": false,
    "ExecuteTime": {
     "end_time": "2024-03-27T09:56:35.459488800Z",
     "start_time": "2024-03-27T09:56:35.431778500Z"
    }
   },
   "id": "a0086a9f887e7de"
  },
  {
   "cell_type": "code",
   "execution_count": 52,
   "outputs": [
    {
     "name": "stdout",
     "output_type": "stream",
     "text": [
      "max diff: tensor(4.7684e-07, grad_fn=<MaxBackward1>)\n"
     ]
    }
   ],
   "source": [
    "# Exercise 3: backprop through batchnorm but all in one go\n",
    "# to complete this challenge look at the mathematical expression of the output of batchnorm,\n",
    "# take the derivative w.r.t. its input, simplify the expression, and just write it out\n",
    "\n",
    "# forward pass\n",
    "\n",
    "# before:\n",
    "# bnmeani = 1/n*hprebn.sum(0, keepdim=True)\n",
    "# bndiff = hprebn - bnmeani\n",
    "# bndiff2 = bndiff**2\n",
    "# bnvar = 1/(n-1)*(bndiff2).sum(0, keepdim=True) # note: Bessel's correction (dividing by n-1, not n)\n",
    "# bnvar_inv = (bnvar + 1e-5)**-0.5\n",
    "# bnraw = bndiff * bnvar_inv\n",
    "# hpreact = bngain * bnraw + bnbias\n",
    "\n",
    "# now:\n",
    "hpreact_fast = bngain * (hprebn - hprebn.mean(0, keepdim=True)) / torch.sqrt(hprebn.var(0, keepdim=True, unbiased=True) + 1e-5) + bnbias\n",
    "print('max diff:', (hpreact_fast - hpreact).abs().max())"
   ],
   "metadata": {
    "collapsed": false,
    "ExecuteTime": {
     "end_time": "2024-03-27T09:56:53.989077800Z",
     "start_time": "2024-03-27T09:56:53.950312900Z"
    }
   },
   "id": "94c6cb938950891c"
  },
  {
   "cell_type": "code",
   "execution_count": 53,
   "outputs": [
    {
     "name": "stdout",
     "output_type": "stream",
     "text": [
      "hprebn          | exact: False, approximate: True , maxdiff: 9.313225746154785e-10\n"
     ]
    }
   ],
   "source": [
    "# backward pass\n",
    "\n",
    "# before we had:\n",
    "# dbnraw = bngain * dhpreact\n",
    "# dbndiff = bnvar_inv * dbnraw\n",
    "# dbnvar_inv = (bndiff * dbnraw).sum(0, keepdim=True)\n",
    "# dbnvar = (-0.5*(bnvar + 1e-5)**-1.5) * dbnvar_inv\n",
    "# dbndiff2 = (1.0/(n-1))*torch.ones_like(bndiff2) * dbnvar\n",
    "# dbndiff += (2*bndiff) * dbndiff2\n",
    "# dhprebn = dbndiff.clone()\n",
    "# dbnmeani = (-dbndiff).sum(0)\n",
    "# dhprebn += 1.0/n * (torch.ones_like(hprebn) * dbnmeani)\n",
    "\n",
    "# calculate dhprebn given dhpreact (i.e. backprop through the batchnorm)\n",
    "# (you'll also need to use some of the variables from the forward pass up above)\n",
    "\n",
    "dhprebn = bngain*bnvar_inv/n * (n*dhpreact - dhpreact.sum(0) - n/(n-1)*bnraw*(dhpreact*bnraw).sum(0))\n",
    "\n",
    "cmp('hprebn', dhprebn, hprebn) # I can only get approximate to be true, my maxdiff is 9e-10"
   ],
   "metadata": {
    "collapsed": false,
    "ExecuteTime": {
     "end_time": "2024-03-27T09:57:02.282015800Z",
     "start_time": "2024-03-27T09:57:02.250907100Z"
    }
   },
   "id": "4799eaad4fdece29"
  },
  {
   "cell_type": "code",
   "execution_count": 55,
   "outputs": [
    {
     "name": "stdout",
     "output_type": "stream",
     "text": [
      "12297\n",
      "      0/ 200000: 3.7994\n",
      "  10000/ 200000: 2.1736\n",
      "  20000/ 200000: 2.3942\n",
      "  30000/ 200000: 2.4654\n",
      "  40000/ 200000: 1.9334\n",
      "  50000/ 200000: 2.2754\n",
      "  60000/ 200000: 2.4038\n",
      "  70000/ 200000: 1.9497\n",
      "  80000/ 200000: 2.4063\n",
      "  90000/ 200000: 2.1509\n",
      " 100000/ 200000: 1.9764\n",
      " 110000/ 200000: 2.3131\n",
      " 120000/ 200000: 2.0031\n",
      " 130000/ 200000: 2.3769\n",
      " 140000/ 200000: 2.3031\n",
      " 150000/ 200000: 2.1472\n",
      " 160000/ 200000: 1.9685\n",
      " 170000/ 200000: 1.7912\n",
      " 180000/ 200000: 2.0513\n",
      " 190000/ 200000: 1.9234\n"
     ]
    }
   ],
   "source": [
    "# Exercise 4: putting it all together!\n",
    "# Train the MLP neural net with your own backward pass\n",
    "\n",
    "# init\n",
    "n_embd = 10 # the dimensionality of the character embedding vectors\n",
    "n_hidden = 200 # the number of neurons in the hidden layer of the MLP\n",
    "\n",
    "g = torch.Generator().manual_seed(2147483647) # for reproducibility\n",
    "C  = torch.randn((vocab_size, n_embd),            generator=g)\n",
    "# Layer 1\n",
    "W1 = torch.randn((n_embd * block_size, n_hidden), generator=g) * (5/3)/((n_embd * block_size)**0.5)\n",
    "b1 = torch.randn(n_hidden,                        generator=g) * 0.1\n",
    "# Layer 2\n",
    "W2 = torch.randn((n_hidden, vocab_size),          generator=g) * 0.1\n",
    "b2 = torch.randn(vocab_size,                      generator=g) * 0.1\n",
    "# BatchNorm parameters\n",
    "bngain = torch.randn((1, n_hidden))*0.1 + 1.0\n",
    "bnbias = torch.randn((1, n_hidden))*0.1\n",
    "\n",
    "parameters = [C, W1, b1, W2, b2, bngain, bnbias]\n",
    "print(sum(p.nelement() for p in parameters)) # number of parameters in total\n",
    "for p in parameters:\n",
    "  p.requires_grad = True\n",
    "\n",
    "# same optimization as last time\n",
    "max_steps = 200000\n",
    "batch_size = 32\n",
    "n = batch_size # convenience\n",
    "lossi = []\n",
    "\n",
    "# use this context manager for efficiency once your backward pass is written (TODO)\n",
    "with torch.no_grad():\n",
    "\n",
    "  # kick off optimization\n",
    "  for i in range(max_steps):\n",
    "\n",
    "    # minibatch construct\n",
    "    ix = torch.randint(0, Xtrain.shape[0], (batch_size,), generator=g)\n",
    "    Xb, Yb = Xtrain[ix], Ytrain[ix] # batch X,Y\n",
    "\n",
    "    # forward pass\n",
    "    emb = C[Xb] # embed the characters into vectors\n",
    "    embcat = emb.view(emb.shape[0], -1) # concatenate the vectors\n",
    "    # Linear layer\n",
    "    hprebn = embcat @ W1 + b1 # hidden layer pre-activation\n",
    "    # BatchNorm layer\n",
    "    # -------------------------------------------------------------\n",
    "    bnmean = hprebn.mean(0, keepdim=True)\n",
    "    bnvar = hprebn.var(0, keepdim=True, unbiased=True)\n",
    "    bnvar_inv = (bnvar + 1e-5)**-0.5\n",
    "    bnraw = (hprebn - bnmean) * bnvar_inv\n",
    "    hpreact = bngain * bnraw + bnbias\n",
    "    # -------------------------------------------------------------\n",
    "    # Non-linearity\n",
    "    h = torch.tanh(hpreact) # hidden layer\n",
    "    logits = h @ W2 + b2 # output layer\n",
    "    loss = F.cross_entropy(logits, Yb) # loss function\n",
    "\n",
    "    # backward pass\n",
    "    for p in parameters:\n",
    "      p.grad = None\n",
    "    #loss.backward() # use this for correctness comparisons, delete it later!\n",
    "\n",
    "    # manual backprop! #swole_doge_meme\n",
    "    # -----------------\n",
    "    dlogits = F.softmax(logits, 1)\n",
    "    dlogits[range(n), Yb] -= 1\n",
    "    dlogits /= n\n",
    "    # 2nd layer backprop\n",
    "    dh = dlogits @ W2.T\n",
    "    dW2 = h.T @ dlogits\n",
    "    db2 = dlogits.sum(0)\n",
    "    # tanh\n",
    "    dhpreact = (1.0 - h**2) * dh\n",
    "    # batchnorm backprop\n",
    "    dbngain = (bnraw * dhpreact).sum(0, keepdim=True)\n",
    "    dbnbias = dhpreact.sum(0, keepdim=True)\n",
    "    dhprebn = bngain*bnvar_inv/n * (n*dhpreact - dhpreact.sum(0) - n/(n-1)*bnraw*(dhpreact*bnraw).sum(0))\n",
    "    # 1st layer\n",
    "    dembcat = dhprebn @ W1.T\n",
    "    dW1 = embcat.T @ dhprebn\n",
    "    db1 = dhprebn.sum(0)\n",
    "    # embedding\n",
    "    demb = dembcat.view(emb.shape)\n",
    "    dC = torch.zeros_like(C)\n",
    "    for k in range(Xb.shape[0]):\n",
    "      for j in range(Xb.shape[1]):\n",
    "        ix = Xb[k,j]\n",
    "        dC[ix] += demb[k,j]\n",
    "    grads = [dC, dW1, db1, dW2, db2, dbngain, dbnbias]\n",
    "    # -----------------\n",
    "\n",
    "    # update\n",
    "    lr = 0.1 if i < 100000 else 0.01 # step learning rate decay\n",
    "    for p, grad in zip(parameters, grads):\n",
    "      #p.data += -lr * p.grad # old way of cheems doge (using PyTorch grad from .backward())\n",
    "      p.data += -lr * grad # new way of swole doge TODO: enable\n",
    "\n",
    "    # track stats\n",
    "    if i % 10000 == 0: # print every once in a while\n",
    "      print(f'{i:7d}/{max_steps:7d}: {loss.item():.4f}')\n",
    "    lossi.append(loss.log10().item())\n",
    "\n",
    "  #   if i >= 100: # TODO: delete early breaking when you're ready to train the full net\n",
    "  #     break"
   ],
   "metadata": {
    "collapsed": false,
    "ExecuteTime": {
     "end_time": "2024-03-27T10:04:31.220939800Z",
     "start_time": "2024-03-27T09:57:43.919347200Z"
    }
   },
   "id": "71ec301b02a057ff"
  },
  {
   "cell_type": "code",
   "execution_count": 56,
   "outputs": [],
   "source": [
    "# calibrate the batch norm at the end of training\n",
    "\n",
    "with torch.no_grad():\n",
    "  # pass the training set through\n",
    "  emb = C[Xtrain]\n",
    "  embcat = emb.view(emb.shape[0], -1)\n",
    "  hpreact = embcat @ W1 + b1\n",
    "  # measure the mean/std over the entire training set\n",
    "  bnmean = hpreact.mean(0, keepdim=True)\n",
    "  bnvar = hpreact.var(0, keepdim=True, unbiased=True)"
   ],
   "metadata": {
    "collapsed": false,
    "ExecuteTime": {
     "end_time": "2024-03-28T01:01:19.318598200Z",
     "start_time": "2024-03-28T01:01:19.092587400Z"
    }
   },
   "id": "a22d8c18ba03eeb1"
  },
  {
   "cell_type": "code",
   "execution_count": 57,
   "outputs": [
    {
     "name": "stdout",
     "output_type": "stream",
     "text": [
      "train 2.0705254077911377\n",
      "val 2.1104416847229004\n"
     ]
    }
   ],
   "source": [
    "# evaluate train and val loss\n",
    "\n",
    "@torch.no_grad() # this decorator disables gradient tracking\n",
    "def split_loss(split):\n",
    "  x,y = {\n",
    "    'train': (Xtrain, Ytrain),\n",
    "    'val': (Xdev, Ydev),\n",
    "    'test': (Xtest, Ytest),\n",
    "  }[split]\n",
    "  emb = C[x] # (N, block_size, n_embd)\n",
    "  embcat = emb.view(emb.shape[0], -1) # concat into (N, block_size * n_embd)\n",
    "  hpreact = embcat @ W1 + b1\n",
    "  hpreact = bngain * (hpreact - bnmean) * (bnvar + 1e-5)**-0.5 + bnbias\n",
    "  h = torch.tanh(hpreact) # (N, n_hidden)\n",
    "  logits = h @ W2 + b2 # (N, vocab_size)\n",
    "  loss = F.cross_entropy(logits, y)\n",
    "  print(split, loss.item())\n",
    "\n",
    "split_loss('train')\n",
    "split_loss('val')"
   ],
   "metadata": {
    "collapsed": false,
    "ExecuteTime": {
     "end_time": "2024-03-28T01:01:22.974620500Z",
     "start_time": "2024-03-28T01:01:22.753920300Z"
    }
   },
   "id": "5a60f61c524fc865"
  },
  {
   "cell_type": "code",
   "execution_count": 59,
   "outputs": [
    {
     "name": "stdout",
     "output_type": "stream",
     "text": [
      "mora.\n",
      "mayah.\n",
      "seel.\n",
      "ndhriah.\n",
      "remmani.\n",
      "jarlee.\n",
      "adelyn.\n",
      "elin.\n",
      "shi.\n",
      "jen.\n",
      "eden.\n",
      "sana.\n",
      "arleigh.\n",
      "malara.\n",
      "noshubergihimies.\n",
      "kindreelynn.\n",
      "novana.\n",
      "ubrey.\n",
      "dariyah.\n",
      "faeh.\n"
     ]
    }
   ],
   "source": [
    "# sample from the model\n",
    "g = torch.Generator().manual_seed(2147483647 + 10)\n",
    "\n",
    "for _ in range(20):\n",
    "    \n",
    "    out = []\n",
    "    context = [0] * block_size # initialize with all ...\n",
    "    while True:\n",
    "      # ------------\n",
    "      # forward pass:\n",
    "      # Embedding\n",
    "      emb = C[torch.tensor([context])] # (1,block_size,d)      \n",
    "      embcat = emb.view(emb.shape[0], -1) # concat into (N, block_size * n_embd)\n",
    "      hpreact = embcat @ W1 + b1\n",
    "      hpreact = bngain * (hpreact - bnmean) * (bnvar + 1e-5)**-0.5 + bnbias\n",
    "      h = torch.tanh(hpreact) # (N, n_hidden)\n",
    "      logits = h @ W2 + b2 # (N, vocab_size)\n",
    "      # ------------\n",
    "      # Sample\n",
    "      probs = F.softmax(logits, dim=1)\n",
    "      ix = torch.multinomial(probs, num_samples=1, generator=g).item()\n",
    "      context = context[1:] + [ix]\n",
    "      out.append(ix)\n",
    "      if ix == 0:\n",
    "        break\n",
    "    \n",
    "    print(''.join(i_to_s[i] for i in out))"
   ],
   "metadata": {
    "collapsed": false,
    "ExecuteTime": {
     "end_time": "2024-03-28T01:01:33.921869900Z",
     "start_time": "2024-03-28T01:01:33.883037500Z"
    }
   },
   "id": "6733101c1d6b3214"
  }
 ],
 "metadata": {
  "kernelspec": {
   "display_name": "Python 3",
   "language": "python",
   "name": "python3"
  },
  "language_info": {
   "codemirror_mode": {
    "name": "ipython",
    "version": 2
   },
   "file_extension": ".py",
   "mimetype": "text/x-python",
   "name": "python",
   "nbconvert_exporter": "python",
   "pygments_lexer": "ipython2",
   "version": "2.7.6"
  }
 },
 "nbformat": 4,
 "nbformat_minor": 5
}
