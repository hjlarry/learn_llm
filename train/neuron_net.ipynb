{
 "cells": [
  {
   "cell_type": "code",
   "execution_count": 72,
   "id": "initial_id",
   "metadata": {
    "collapsed": true,
    "ExecuteTime": {
     "end_time": "2024-03-13T08:29:05.205973900Z",
     "start_time": "2024-03-13T08:29:05.195969600Z"
    }
   },
   "outputs": [],
   "source": [
    "import math\n",
    "\n",
    "\n",
    "class Value:\n",
    "    def __init__(self, data, children=None, op='', label=''):\n",
    "        self.data = data\n",
    "        self.grad = 0.0\n",
    "        self._backward = lambda: None\n",
    "        self._prev = set(children) if children else ()\n",
    "        self._op = op\n",
    "        self.label = label\n",
    "\n",
    "    def __repr__(self):\n",
    "        return f\"Value({self.data})\"\n",
    "\n",
    "    def __add__(self, other):\n",
    "        other = other if isinstance(other, Value) else Value(other)\n",
    "        out = self.data + other.data\n",
    "        out = Value(out, (self, other), \"+\")\n",
    "\n",
    "        def _backward():\n",
    "            self.grad += 1.0 * out.grad\n",
    "            other.grad += 1.0 * out.grad\n",
    "\n",
    "        out._backward = _backward\n",
    "        return out\n",
    "\n",
    "    def __radd__(self, other):\n",
    "        return self + other\n",
    "\n",
    "    def __mul__(self, other):\n",
    "        other = other if isinstance(other, Value) else Value(other)\n",
    "        out = self.data * other.data\n",
    "        out = Value(out, (self, other), \"*\")\n",
    "\n",
    "        def _backward():\n",
    "            self.grad += other.data * out.grad\n",
    "            other.grad += self.data * out.grad\n",
    "\n",
    "        out._backward = _backward\n",
    "        return out\n",
    "\n",
    "    def __sub__(self, other):  # self-other\n",
    "        return self + (-other)\n",
    "\n",
    "    def __rsub__(self, other):  # other -self\n",
    "        return -self + other\n",
    "\n",
    "    def __neg__(self):  # -self\n",
    "        return self * -1\n",
    "\n",
    "    def __truediv__(self, other):\n",
    "        # x/y == x*y**-1\n",
    "        return self * other ** -1\n",
    "\n",
    "    def __rmul__(self, other):\n",
    "        return self * other\n",
    "\n",
    "    def __pow__(self, other):\n",
    "        other = other if isinstance(other, Value) else Value(other)\n",
    "        out = self.data ** other.data\n",
    "        out = Value(out, (self, other), \"pow\")\n",
    "\n",
    "        def _backward():\n",
    "            self.grad += other.data * (self.data ** (other.data - 1)) * out.grad\n",
    "\n",
    "        out._backward = _backward\n",
    "        return out\n",
    "\n",
    "    def exp(self):\n",
    "        out = Value(math.exp(self.data), (self,), \"exp\")\n",
    "\n",
    "        def _backward():\n",
    "            self.grad += out.data * out.grad\n",
    "\n",
    "        out._backward = _backward\n",
    "        return out\n",
    "\n",
    "    def tanh(self):\n",
    "        # tanh x = e的2x次方减1 除以 e的2x次方加1\n",
    "        x = self.data\n",
    "        v = (math.exp(2 * x) - 1) / (math.exp(2 * x) + 1)\n",
    "        out = Value(v, (self,), 'tanh')\n",
    "\n",
    "        def _backward():\n",
    "            self.grad += (1 - v ** 2) * out.grad\n",
    "\n",
    "        out._backward = _backward\n",
    "        return out\n",
    "    \n",
    "    def relu(self):\n",
    "        out = Value(0 if self.data < 0 else self.data, (self,), 'ReLU')\n",
    "\n",
    "        def _backward():\n",
    "            self.grad += (out.data > 0) * out.grad\n",
    "        out._backward = _backward\n",
    "\n",
    "        return out\n",
    "\n",
    "    def backward(self):\n",
    "        # 拓扑排序，只会沿着从左向右一个方向\n",
    "        topo = []\n",
    "        visited = set()\n",
    "\n",
    "        def build_topo(v):\n",
    "            if v not in visited:\n",
    "                visited.add(v)\n",
    "                for child in v._prev:\n",
    "                    build_topo(child)\n",
    "                topo.append(v)\n",
    "\n",
    "        build_topo(self)\n",
    "        self.grad = 1\n",
    "        for node in reversed(topo):\n",
    "            node._backward()"
   ]
  },
  {
   "cell_type": "code",
   "execution_count": 80,
   "outputs": [],
   "source": [
    "import random\n",
    "\n",
    "\n",
    "class Neuron:\n",
    "    def __init__(self, n_in, nonlin=True):\n",
    "        self.weight = [Value(random.uniform(-1, 1)) for _ in range(n_in)]\n",
    "        self.bias = Value(random.uniform(-1, 1))\n",
    "        self.nonlin = nonlin\n",
    "\n",
    "    def __call__(self, x):\n",
    "        # w*x +b\n",
    "        act = sum(w * x for w, x in zip(self.weight, x)) + self.bias\n",
    "        out = act.relu() if self.nonlin else act\n",
    "        return out\n",
    "    \n",
    "    def parameters(self):\n",
    "        return self.weight + [self.bias]\n",
    "\n",
    "\n",
    "class Layer:\n",
    "    def __init__(self, n_in, n_out, **kwargs):\n",
    "        self.neurons = [Neuron(n_in, **kwargs) for _ in range(n_out)]\n",
    "\n",
    "    def __call__(self, x):\n",
    "        outs = [n(x) for n in self.neurons]\n",
    "        return outs[0] if len(outs) == 1 else outs\n",
    "    \n",
    "    def parameters(self):\n",
    "        return [p for n in self.neurons for p in n.parameters()]\n",
    "\n",
    "\n",
    "class MLP:\n",
    "    def __init__(self, n_in, n_outs):\n",
    "        sz = [n_in] + n_outs\n",
    "        self.layers = [Layer(sz[i], sz[i + 1], nonlin=i!=len(n_outs)-1) for i in range(len(n_outs))]\n",
    "\n",
    "    def __call__(self, x):\n",
    "        for layer in self.layers:\n",
    "            x = layer(x)\n",
    "        return x\n",
    "    \n",
    "    def parameters(self):\n",
    "        return [p for l in self.layers for p in l.parameters()]"
   ],
   "metadata": {
    "collapsed": false,
    "ExecuteTime": {
     "end_time": "2024-03-13T08:36:28.779879100Z",
     "start_time": "2024-03-13T08:36:28.747880700Z"
    }
   },
   "id": "228a1b2763ac5099"
  },
  {
   "cell_type": "code",
   "execution_count": 56,
   "outputs": [],
   "source": [
    "xs = [\n",
    "    [2.0, 3.0, -1.0],\n",
    "    [3.0, -1.0, 0.5],\n",
    "    [0.5, 1.0, 1.0],\n",
    "    [1.0, 1.0, -1.0],\n",
    "]\n",
    "ys = [1.0, -1.0, -1.0, 1.0]  # desired targets\n",
    "m = MLP(3, [4, 4, 1])\n"
   ],
   "metadata": {
    "collapsed": false,
    "ExecuteTime": {
     "end_time": "2024-03-13T07:44:55.030062700Z",
     "start_time": "2024-03-13T07:44:55.021063200Z"
    }
   },
   "id": "e2e9233cdf5751af"
  },
  {
   "cell_type": "code",
   "execution_count": 63,
   "outputs": [
    {
     "name": "stdout",
     "output_type": "stream",
     "text": [
      "0 Value(0.004681766727090079)\n",
      "1 Value(0.004617289408884947)\n",
      "2 Value(0.004554575629617143)\n",
      "3 Value(0.00449355239529506)\n",
      "4 Value(0.004434150789942387)\n",
      "5 Value(0.004376305687710162)\n",
      "6 Value(0.004319955489551471)\n",
      "7 Value(0.004265041882007742)\n",
      "8 Value(0.004211509615933404)\n",
      "9 Value(0.004159306303230845)\n",
      "10 Value(0.004108382229879395)\n",
      "11 Value(0.004058690183729633)\n",
      "12 Value(0.004010185295697836)\n",
      "13 Value(0.003962824893139459)\n",
      "14 Value(0.003916568364308243)\n",
      "15 Value(0.0038713770329192993)\n",
      "16 Value(0.003827214041934074)\n",
      "17 Value(0.0037840442457731964)\n",
      "18 Value(0.0037418341102413433)\n",
      "19 Value(0.0037005516195179554)\n"
     ]
    }
   ],
   "source": [
    "for k in range(20):\n",
    "    # forward process\n",
    "    ypred = [m(x) for x in xs]\n",
    "    loss = sum([(yout - ygt) ** 2 for yout, ygt in zip(ys, ypred)])\n",
    "    \n",
    "    # backward process\n",
    "    # after each update, remember to init the new grad\n",
    "    # the final loss is changed, so the local derivatives should be changed\n",
    "    for p in m.parameters():\n",
    "        p.grad = 0\n",
    "    loss.backward()\n",
    "    \n",
    "    # update parameters\n",
    "    for p in m.parameters():\n",
    "        p.data += -0.1 * p.grad \n",
    "    \n",
    "    print(k, loss)"
   ],
   "metadata": {
    "collapsed": false,
    "ExecuteTime": {
     "end_time": "2024-03-13T07:45:28.431927400Z",
     "start_time": "2024-03-13T07:45:28.402929500Z"
    }
   },
   "id": "7c95bf79cc0c8b9b"
  },
  {
   "cell_type": "code",
   "execution_count": 64,
   "outputs": [
    {
     "data": {
      "text/plain": "[Value(0.9763988755653319),\n Value(-0.9695442214205039),\n Value(-0.9708474460408598),\n Value(0.9630390382469098)]"
     },
     "execution_count": 64,
     "metadata": {},
     "output_type": "execute_result"
    }
   ],
   "source": [
    "ypred"
   ],
   "metadata": {
    "collapsed": false,
    "ExecuteTime": {
     "end_time": "2024-03-13T07:45:32.287855300Z",
     "start_time": "2024-03-13T07:45:32.278858700Z"
    }
   },
   "id": "c280323998e00a4f"
  },
  {
   "cell_type": "code",
   "execution_count": 65,
   "outputs": [
    {
     "data": {
      "text/plain": "<matplotlib.collections.PathCollection at 0x218efef99a0>"
     },
     "execution_count": 65,
     "metadata": {},
     "output_type": "execute_result"
    },
    {
     "data": {
      "text/plain": "<Figure size 500x500 with 1 Axes>",
      "image/png": "[encoded data removed]"
     },
     "metadata": {},
     "output_type": "display_data"
    }
   ],
   "source": [
    "import numpy as np\n",
    "import matplotlib.pyplot as plt\n",
    "%matplotlib inline\n",
    "np.random.seed(1337)\n",
    "random.seed(1337)\n",
    "\n",
    "\n",
    "# make up a dataset\n",
    "\n",
    "from sklearn.datasets import make_moons, make_blobs\n",
    "X, y = make_moons(n_samples=100, noise=0.1)\n",
    "y = y*2 - 1 # make y be -1 or 1\n",
    "# visualize in 2D\n",
    "plt.figure(figsize=(5,5))\n",
    "plt.scatter(X[:,0], X[:,1], c=y, s=20, cmap='jet')"
   ],
   "metadata": {
    "collapsed": false,
    "ExecuteTime": {
     "end_time": "2024-03-13T08:20:41.915207800Z",
     "start_time": "2024-03-13T08:20:40.622377100Z"
    }
   },
   "id": "8e2ae2c4bfeeab4a"
  },
  {
   "cell_type": "code",
   "execution_count": 81,
   "outputs": [
    {
     "name": "stdout",
     "output_type": "stream",
     "text": [
      "<__main__.MLP object at 0x0000021888028FD0>\n",
      "number of parameters 337\n"
     ]
    }
   ],
   "source": [
    "# initialize a model \n",
    "model = MLP(2, [16, 16, 1]) # 2-layer neural network\n",
    "print(model)\n",
    "print(\"number of parameters\", len(model.parameters()))"
   ],
   "metadata": {
    "collapsed": false,
    "ExecuteTime": {
     "end_time": "2024-03-13T08:36:35.155711500Z",
     "start_time": "2024-03-13T08:36:35.143709800Z"
    }
   },
   "id": "fc2037da38bdd3c0"
  },
  {
   "cell_type": "code",
   "execution_count": 82,
   "outputs": [
    {
     "name": "stdout",
     "output_type": "stream",
     "text": [
      "Value(0.526311195771092) 0.8\n"
     ]
    }
   ],
   "source": [
    "# loss function\n",
    "def loss(batch_size=None):\n",
    "    \n",
    "    # inline DataLoader :)\n",
    "    if batch_size is None:\n",
    "        Xb, yb = X, y\n",
    "    else:\n",
    "        ri = np.random.permutation(X.shape[0])[:batch_size]\n",
    "        Xb, yb = X[ri], y[ri]\n",
    "    inputs = [list(map(Value, xrow)) for xrow in Xb]\n",
    "    \n",
    "    # forward the model to get scores\n",
    "    scores = list(map(model, inputs))\n",
    "    \n",
    "    # svm \"max-margin\" loss\n",
    "    losses = [(1 + -yi*scorei).relu() for yi, scorei in zip(yb, scores)]\n",
    "    data_loss = sum(losses) * (1.0 / len(losses))\n",
    "    # L2 regularization\n",
    "    alpha = 1e-4\n",
    "    reg_loss = alpha * sum((p*p for p in model.parameters()))\n",
    "    total_loss = data_loss + reg_loss\n",
    "    \n",
    "    # also get accuracy\n",
    "    accuracy = [(yi > 0) == (scorei.data > 0) for yi, scorei in zip(yb, scores)]\n",
    "    return total_loss, sum(accuracy) / len(accuracy)\n",
    "\n",
    "total_loss, acc = loss()\n",
    "print(total_loss, acc)"
   ],
   "metadata": {
    "collapsed": false,
    "ExecuteTime": {
     "end_time": "2024-03-13T08:36:37.814391400Z",
     "start_time": "2024-03-13T08:36:37.807393Z"
    }
   },
   "id": "daa3f88314dccf18"
  },
  {
   "cell_type": "code",
   "execution_count": 83,
   "outputs": [
    {
     "name": "stdout",
     "output_type": "stream",
     "text": [
      "step 0 loss 0.526311195771092, accuracy 80.0%\n",
      "step 1 loss 1.3631516810753148, accuracy 50.0%\n",
      "step 2 loss 2.3536126182334707, accuracy 50.0%\n",
      "step 3 loss 0.6697498069681572, accuracy 77.0%\n",
      "step 4 loss 0.4012351412933122, accuracy 83.0%\n",
      "step 5 loss 0.3744214037972901, accuracy 85.0%\n",
      "step 6 loss 0.32445304482196097, accuracy 87.0%\n",
      "step 7 loss 0.3227238430608365, accuracy 86.0%\n",
      "step 8 loss 0.297801280764128, accuracy 86.0%\n",
      "step 9 loss 0.3077059994992208, accuracy 86.0%\n",
      "step 10 loss 0.2752229921810606, accuracy 89.0%\n",
      "step 11 loss 0.30067110213154724, accuracy 87.0%\n",
      "step 12 loss 0.24128436888801175, accuracy 89.0%\n",
      "step 13 loss 0.22725640929061547, accuracy 90.0%\n",
      "step 14 loss 0.21378660318206996, accuracy 92.0%\n",
      "step 15 loss 0.2046599942583644, accuracy 92.0%\n",
      "step 16 loss 0.2326487530724444, accuracy 91.0%\n",
      "step 17 loss 0.29155877360516097, accuracy 88.0%\n",
      "step 18 loss 0.22012605478471517, accuracy 92.0%\n",
      "step 19 loss 0.19076952682273163, accuracy 94.0%\n",
      "step 20 loss 0.17579428393141278, accuracy 94.0%\n",
      "step 21 loss 0.16571041517182644, accuracy 97.0%\n",
      "step 22 loss 0.16571154604712612, accuracy 95.0%\n",
      "step 23 loss 0.2117220834954207, accuracy 94.0%\n",
      "step 24 loss 0.19141771760447948, accuracy 94.0%\n",
      "step 25 loss 0.09640128848850728, accuracy 97.0%\n",
      "step 26 loss 0.10505816459439574, accuracy 97.0%\n",
      "step 27 loss 0.16494564952520702, accuracy 95.0%\n",
      "step 28 loss 0.09283731474270497, accuracy 96.0%\n",
      "step 29 loss 0.04838038959851886, accuracy 100.0%\n",
      "step 30 loss 0.0685761283305019, accuracy 99.0%\n",
      "step 31 loss 0.05208076042733553, accuracy 98.0%\n",
      "step 32 loss 0.03915081147854431, accuracy 100.0%\n",
      "step 33 loss 0.029872721131582975, accuracy 100.0%\n",
      "step 34 loss 0.032310784414833094, accuracy 100.0%\n",
      "step 35 loss 0.03929224249935892, accuracy 100.0%\n",
      "step 36 loss 0.09156114869472529, accuracy 97.0%\n",
      "step 37 loss 0.06240123722035667, accuracy 97.0%\n",
      "step 38 loss 0.029695439711280358, accuracy 100.0%\n",
      "step 39 loss 0.02106496607246723, accuracy 100.0%\n",
      "step 40 loss 0.023665145376171516, accuracy 100.0%\n",
      "step 41 loss 0.040224733528269725, accuracy 100.0%\n",
      "step 42 loss 0.03174037327380253, accuracy 100.0%\n",
      "step 43 loss 0.021073630097692503, accuracy 100.0%\n",
      "step 44 loss 0.0161620082437993, accuracy 100.0%\n",
      "step 45 loss 0.01604290106024813, accuracy 100.0%\n",
      "step 46 loss 0.021916161753497233, accuracy 100.0%\n",
      "step 47 loss 0.02900455637808223, accuracy 100.0%\n",
      "step 48 loss 0.022577571491486117, accuracy 100.0%\n",
      "step 49 loss 0.01645850164901906, accuracy 100.0%\n",
      "step 50 loss 0.014562662935476763, accuracy 100.0%\n",
      "step 51 loss 0.016977417222567955, accuracy 100.0%\n",
      "step 52 loss 0.016190022521273544, accuracy 100.0%\n",
      "step 53 loss 0.017002118153355825, accuracy 100.0%\n",
      "step 54 loss 0.013908158886699749, accuracy 100.0%\n",
      "step 55 loss 0.013663795310804297, accuracy 100.0%\n",
      "step 56 loss 0.013428479832053395, accuracy 100.0%\n",
      "step 57 loss 0.013196184241537515, accuracy 100.0%\n",
      "step 58 loss 0.01305654600135572, accuracy 100.0%\n",
      "step 59 loss 0.013960470469274726, accuracy 100.0%\n",
      "step 60 loss 0.01576274539528115, accuracy 100.0%\n",
      "step 61 loss 0.01300483184605069, accuracy 100.0%\n",
      "step 62 loss 0.013002485880193508, accuracy 100.0%\n",
      "step 63 loss 0.013000187142298593, accuracy 100.0%\n",
      "step 64 loss 0.012997935607381224, accuracy 100.0%\n",
      "step 65 loss 0.012995731250970883, accuracy 100.0%\n",
      "step 66 loss 0.012993574049110826, accuracy 100.0%\n",
      "step 67 loss 0.012991463978357601, accuracy 100.0%\n",
      "step 68 loss 0.012989401015780696, accuracy 100.0%\n",
      "step 69 loss 0.012987385138962103, accuracy 100.0%\n",
      "step 70 loss 0.012985416325995865, accuracy 100.0%\n",
      "step 71 loss 0.012983494555487776, accuracy 100.0%\n",
      "step 72 loss 0.012981619806554844, accuracy 100.0%\n",
      "step 73 loss 0.01297979205882507, accuracy 100.0%\n",
      "step 74 loss 0.012978011292436987, accuracy 100.0%\n",
      "step 75 loss 0.0129762774880393, accuracy 100.0%\n",
      "step 76 loss 0.012974590626790633, accuracy 100.0%\n",
      "step 77 loss 0.012972950690359029, accuracy 100.0%\n",
      "step 78 loss 0.012971357660921761, accuracy 100.0%\n",
      "step 79 loss 0.01296981152116492, accuracy 100.0%\n",
      "step 80 loss 0.012968312254283146, accuracy 100.0%\n",
      "step 81 loss 0.012966859843979288, accuracy 100.0%\n",
      "step 82 loss 0.012965454274464177, accuracy 100.0%\n",
      "step 83 loss 0.012964095530456235, accuracy 100.0%\n",
      "step 84 loss 0.012962783597181284, accuracy 100.0%\n",
      "step 85 loss 0.0129615184603723, accuracy 100.0%\n",
      "step 86 loss 0.012960300106269026, accuracy 100.0%\n",
      "step 87 loss 0.012959128521617822, accuracy 100.0%\n",
      "step 88 loss 0.01295800369367144, accuracy 100.0%\n",
      "step 89 loss 0.012956925610188743, accuracy 100.0%\n",
      "step 90 loss 0.012955894259434442, accuracy 100.0%\n",
      "step 91 loss 0.012954909630179043, accuracy 100.0%\n",
      "step 92 loss 0.01295397171169845, accuracy 100.0%\n",
      "step 93 loss 0.012953080493773892, accuracy 100.0%\n",
      "step 94 loss 0.012952235966691721, accuracy 100.0%\n",
      "step 95 loss 0.012951438121243181, accuracy 100.0%\n",
      "step 96 loss 0.012950686948724314, accuracy 100.0%\n",
      "step 97 loss 0.012949982440935731, accuracy 100.0%\n",
      "step 98 loss 0.012949324590182554, accuracy 100.0%\n",
      "step 99 loss 0.012948713389274153, accuracy 100.0%\n"
     ]
    }
   ],
   "source": [
    "# optimization\n",
    "for k in range(100):\n",
    "    \n",
    "    # forward\n",
    "    total_loss, acc = loss()\n",
    "    \n",
    "    # backward\n",
    "    for p in model.parameters():\n",
    "        p.grad = 0\n",
    "    total_loss.backward()\n",
    "    \n",
    "    # update (sgd)\n",
    "    learning_rate = 1.0 - 0.9*k/100\n",
    "    for p in model.parameters():\n",
    "        p.data -= learning_rate * p.grad\n",
    "    \n",
    "    if k % 1 == 0:\n",
    "        print(f\"step {k} loss {total_loss.data}, accuracy {acc*100}%\")"
   ],
   "metadata": {
    "collapsed": false,
    "ExecuteTime": {
     "end_time": "2024-03-13T08:38:47.481520800Z",
     "start_time": "2024-03-13T08:36:40.624958700Z"
    }
   },
   "id": "7fc2799a975b3260"
  },
  {
   "cell_type": "code",
   "execution_count": 84,
   "outputs": [
    {
     "data": {
      "text/plain": "(-1.548639298268643, 1.951360701731357)"
     },
     "execution_count": 84,
     "metadata": {},
     "output_type": "execute_result"
    },
    {
     "data": {
      "text/plain": "<Figure size 640x480 with 1 Axes>",
      "image/png": "[encoded data removed]"
     },
     "metadata": {},
     "output_type": "display_data"
    }
   ],
   "source": [
    "# visualize decision boundary\n",
    "\n",
    "h = 0.25\n",
    "x_min, x_max = X[:, 0].min() - 1, X[:, 0].max() + 1\n",
    "y_min, y_max = X[:, 1].min() - 1, X[:, 1].max() + 1\n",
    "xx, yy = np.meshgrid(np.arange(x_min, x_max, h),\n",
    "                     np.arange(y_min, y_max, h))\n",
    "Xmesh = np.c_[xx.ravel(), yy.ravel()]\n",
    "inputs = [list(map(Value, xrow)) for xrow in Xmesh]\n",
    "scores = list(map(model, inputs))\n",
    "Z = np.array([s.data > 0 for s in scores])\n",
    "Z = Z.reshape(xx.shape)\n",
    "\n",
    "fig = plt.figure()\n",
    "plt.contourf(xx, yy, Z, cmap=plt.cm.Spectral, alpha=0.8)\n",
    "plt.scatter(X[:, 0], X[:, 1], c=y, s=40, cmap=plt.cm.Spectral)\n",
    "plt.xlim(xx.min(), xx.max())\n",
    "plt.ylim(yy.min(), yy.max())"
   ],
   "metadata": {
    "collapsed": false,
    "ExecuteTime": {
     "end_time": "2024-03-13T08:40:42.887550800Z",
     "start_time": "2024-03-13T08:40:39.375174300Z"
    }
   },
   "id": "46379e42066f31aa"
  }
 ],
 "metadata": {
  "kernelspec": {
   "display_name": "Python 3",
   "language": "python",
   "name": "python3"
  },
  "language_info": {
   "codemirror_mode": {
    "name": "ipython",
    "version": 2
   },
   "file_extension": ".py",
   "mimetype": "text/x-python",
   "name": "python",
   "nbconvert_exporter": "python",
   "pygments_lexer": "ipython2",
   "version": "2.7.6"
  }
 },
 "nbformat": 4,
 "nbformat_minor": 5
}
